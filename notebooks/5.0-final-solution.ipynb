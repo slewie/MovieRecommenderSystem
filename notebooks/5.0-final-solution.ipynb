{
 "cells": [
  {
   "cell_type": "code",
   "execution_count": 1,
   "id": "initial_id",
   "metadata": {
    "collapsed": true,
    "ExecuteTime": {
     "end_time": "2023-12-03T10:59:10.969335700Z",
     "start_time": "2023-12-03T10:59:10.366917800Z"
    }
   },
   "outputs": [],
   "source": [
    "import sys\n",
    "sys.path.append('../')\n",
    "from src.recsys.recommender import Recommender\n",
    "import pandas as pd\n",
    "import numpy as np"
   ]
  },
  {
   "cell_type": "code",
   "execution_count": 2,
   "outputs": [],
   "source": [
    "recommender = Recommender('../data/interim/u.data', '../data/interim/u.item', '../models/knn_recsys')"
   ],
   "metadata": {
    "collapsed": false,
    "ExecuteTime": {
     "end_time": "2023-12-03T10:59:18.763244200Z",
     "start_time": "2023-12-03T10:59:10.973353300Z"
    }
   },
   "id": "25294e2c2615afbd"
  },
  {
   "cell_type": "code",
   "execution_count": 3,
   "outputs": [],
   "source": [
    "recommender.add_user(944)"
   ],
   "metadata": {
    "collapsed": false,
    "ExecuteTime": {
     "end_time": "2023-12-03T10:59:18.768849600Z",
     "start_time": "2023-12-03T10:59:18.765248800Z"
    }
   },
   "id": "d29f4207f581379"
  },
  {
   "cell_type": "code",
   "execution_count": 4,
   "outputs": [
    {
     "data": {
      "text/plain": "array([0., 0., 0., 0., 0., 0., 0., 0., 0., 0., 0., 0., 0., 0., 0., 0., 0.,\n       0., 0.])"
     },
     "execution_count": 4,
     "metadata": {},
     "output_type": "execute_result"
    }
   ],
   "source": [
    "recommender.user_genres[944]"
   ],
   "metadata": {
    "collapsed": false,
    "ExecuteTime": {
     "end_time": "2023-12-03T10:59:18.784257200Z",
     "start_time": "2023-12-03T10:59:18.767837500Z"
    }
   },
   "id": "a5ab305fcd87d1e6"
  },
  {
   "cell_type": "code",
   "execution_count": 5,
   "outputs": [],
   "source": [
    "recommender.add_rating(944, 1001, 5)"
   ],
   "metadata": {
    "collapsed": false,
    "ExecuteTime": {
     "end_time": "2023-12-03T10:59:18.797294200Z",
     "start_time": "2023-12-03T10:59:18.783257500Z"
    }
   },
   "id": "8e8ae246c58f960a"
  },
  {
   "cell_type": "code",
   "execution_count": 6,
   "outputs": [
    {
     "data": {
      "text/plain": "   movieId                 movieTitle\n0       50           Star Wars (1977)\n1      258               Fargo (1996)\n2      100  Return of the Jedi (1983)\n3      181             Contact (1997)\n4      294           Liar Liar (1997)",
      "text/html": "<div>\n<style scoped>\n    .dataframe tbody tr th:only-of-type {\n        vertical-align: middle;\n    }\n\n    .dataframe tbody tr th {\n        vertical-align: top;\n    }\n\n    .dataframe thead th {\n        text-align: right;\n    }\n</style>\n<table border=\"1\" class=\"dataframe\">\n  <thead>\n    <tr style=\"text-align: right;\">\n      <th></th>\n      <th>movieId</th>\n      <th>movieTitle</th>\n    </tr>\n  </thead>\n  <tbody>\n    <tr>\n      <th>0</th>\n      <td>50</td>\n      <td>Star Wars (1977)</td>\n    </tr>\n    <tr>\n      <th>1</th>\n      <td>258</td>\n      <td>Fargo (1996)</td>\n    </tr>\n    <tr>\n      <th>2</th>\n      <td>100</td>\n      <td>Return of the Jedi (1983)</td>\n    </tr>\n    <tr>\n      <th>3</th>\n      <td>181</td>\n      <td>Contact (1997)</td>\n    </tr>\n    <tr>\n      <th>4</th>\n      <td>294</td>\n      <td>Liar Liar (1997)</td>\n    </tr>\n  </tbody>\n</table>\n</div>"
     },
     "execution_count": 6,
     "metadata": {},
     "output_type": "execute_result"
    }
   ],
   "source": [
    "recommender.get_recs(944)"
   ],
   "metadata": {
    "collapsed": false,
    "ExecuteTime": {
     "end_time": "2023-12-03T10:59:18.806951200Z",
     "start_time": "2023-12-03T10:59:18.791285600Z"
    }
   },
   "id": "b66c263b6b479d03"
  },
  {
   "cell_type": "code",
   "execution_count": 7,
   "outputs": [],
   "source": [],
   "metadata": {
    "collapsed": false,
    "ExecuteTime": {
     "end_time": "2023-12-03T10:57:39.822069900Z",
     "start_time": "2023-12-03T10:57:39.820171800Z"
    }
   },
   "id": "eef3346039ce1e5f"
  }
 ],
 "metadata": {
  "kernelspec": {
   "display_name": "Python 3",
   "language": "python",
   "name": "python3"
  },
  "language_info": {
   "codemirror_mode": {
    "name": "ipython",
    "version": 2
   },
   "file_extension": ".py",
   "mimetype": "text/x-python",
   "name": "python",
   "nbconvert_exporter": "python",
   "pygments_lexer": "ipython2",
   "version": "2.7.6"
  }
 },
 "nbformat": 4,
 "nbformat_minor": 5
}
