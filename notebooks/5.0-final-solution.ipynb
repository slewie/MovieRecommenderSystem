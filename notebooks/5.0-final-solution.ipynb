{
 "cells": [
  {
   "cell_type": "markdown",
   "source": [
    "# Introduction\n",
    "\n",
    "In this notebook, I'll show the RecSys and what it can do"
   ],
   "metadata": {
    "collapsed": false
   },
   "id": "9f94523f2fd738ce"
  },
  {
   "cell_type": "code",
   "execution_count": 1,
   "id": "initial_id",
   "metadata": {
    "collapsed": true,
    "ExecuteTime": {
     "end_time": "2023-12-03T17:55:06.524067900Z",
     "start_time": "2023-12-03T17:55:05.906392800Z"
    }
   },
   "outputs": [],
   "source": [
    "import sys\n",
    "sys.path.append('../')\n",
    "from src.recsys.recommender import Recommender"
   ]
  },
  {
   "cell_type": "code",
   "execution_count": 2,
   "outputs": [],
   "source": [
    "recommender = Recommender('../data/interim/u.data', '../data/interim/u.item', '../models/knn_recsys', '../data/interim/u.genre', max_iter=5)"
   ],
   "metadata": {
    "collapsed": false,
    "ExecuteTime": {
     "end_time": "2023-12-03T17:55:14.141090300Z",
     "start_time": "2023-12-03T17:55:06.526224400Z"
    }
   },
   "id": "25294e2c2615afbd"
  },
  {
   "cell_type": "markdown",
   "source": [
    "My class supports user and movie history tracking, such as the most popular genres, top user-rated movies, and most viewed movies."
   ],
   "metadata": {
    "collapsed": false
   },
   "id": "8f2427452334a059"
  },
  {
   "cell_type": "code",
   "execution_count": 3,
   "outputs": [
    {
     "data": {
      "text/plain": "   genreId genreName  moviesNum\n0        8     Drama          8\n1       16  Thriller          5\n2       13   Mystery          4\n3        6     Crime          4\n4        1    Action          3",
      "text/html": "<div>\n<style scoped>\n    .dataframe tbody tr th:only-of-type {\n        vertical-align: middle;\n    }\n\n    .dataframe tbody tr th {\n        vertical-align: top;\n    }\n\n    .dataframe thead th {\n        text-align: right;\n    }\n</style>\n<table border=\"1\" class=\"dataframe\">\n  <thead>\n    <tr style=\"text-align: right;\">\n      <th></th>\n      <th>genreId</th>\n      <th>genreName</th>\n      <th>moviesNum</th>\n    </tr>\n  </thead>\n  <tbody>\n    <tr>\n      <th>0</th>\n      <td>8</td>\n      <td>Drama</td>\n      <td>8</td>\n    </tr>\n    <tr>\n      <th>1</th>\n      <td>16</td>\n      <td>Thriller</td>\n      <td>5</td>\n    </tr>\n    <tr>\n      <th>2</th>\n      <td>13</td>\n      <td>Mystery</td>\n      <td>4</td>\n    </tr>\n    <tr>\n      <th>3</th>\n      <td>6</td>\n      <td>Crime</td>\n      <td>4</td>\n    </tr>\n    <tr>\n      <th>4</th>\n      <td>1</td>\n      <td>Action</td>\n      <td>3</td>\n    </tr>\n  </tbody>\n</table>\n</div>"
     },
     "execution_count": 3,
     "metadata": {},
     "output_type": "execute_result"
    }
   ],
   "source": [
    "recommender.get_user_most_popular_genres(3)"
   ],
   "metadata": {
    "collapsed": false,
    "ExecuteTime": {
     "end_time": "2023-12-03T17:55:14.171203800Z",
     "start_time": "2023-12-03T17:55:14.141172700Z"
    }
   },
   "id": "cbe3e42d3b7df848"
  },
  {
   "cell_type": "code",
   "execution_count": 4,
   "outputs": [
    {
     "data": {
      "text/plain": "   movieId                                         movieTitle  rating\n0      346                                Jackie Brown (1997)       5\n1      340                               Boogie Nights (1997)       5\n2      347                                 Wag the Dog (1997)       5\n3      328                           Conspiracy Theory (1997)       5\n4      320  Paradise Lost: The Child Murders at Robin Hood...       5\n5      321                                      Mother (1996)       5\n6      348                          Desperate Measures (1998)       4\n7      344                                Apostle, The (1997)       4\n8      181                          Return of the Jedi (1983)       4\n9      329                          Desperate Measures (1998)       4",
      "text/html": "<div>\n<style scoped>\n    .dataframe tbody tr th:only-of-type {\n        vertical-align: middle;\n    }\n\n    .dataframe tbody tr th {\n        vertical-align: top;\n    }\n\n    .dataframe thead th {\n        text-align: right;\n    }\n</style>\n<table border=\"1\" class=\"dataframe\">\n  <thead>\n    <tr style=\"text-align: right;\">\n      <th></th>\n      <th>movieId</th>\n      <th>movieTitle</th>\n      <th>rating</th>\n    </tr>\n  </thead>\n  <tbody>\n    <tr>\n      <th>0</th>\n      <td>346</td>\n      <td>Jackie Brown (1997)</td>\n      <td>5</td>\n    </tr>\n    <tr>\n      <th>1</th>\n      <td>340</td>\n      <td>Boogie Nights (1997)</td>\n      <td>5</td>\n    </tr>\n    <tr>\n      <th>2</th>\n      <td>347</td>\n      <td>Wag the Dog (1997)</td>\n      <td>5</td>\n    </tr>\n    <tr>\n      <th>3</th>\n      <td>328</td>\n      <td>Conspiracy Theory (1997)</td>\n      <td>5</td>\n    </tr>\n    <tr>\n      <th>4</th>\n      <td>320</td>\n      <td>Paradise Lost: The Child Murders at Robin Hood...</td>\n      <td>5</td>\n    </tr>\n    <tr>\n      <th>5</th>\n      <td>321</td>\n      <td>Mother (1996)</td>\n      <td>5</td>\n    </tr>\n    <tr>\n      <th>6</th>\n      <td>348</td>\n      <td>Desperate Measures (1998)</td>\n      <td>4</td>\n    </tr>\n    <tr>\n      <th>7</th>\n      <td>344</td>\n      <td>Apostle, The (1997)</td>\n      <td>4</td>\n    </tr>\n    <tr>\n      <th>8</th>\n      <td>181</td>\n      <td>Return of the Jedi (1983)</td>\n      <td>4</td>\n    </tr>\n    <tr>\n      <th>9</th>\n      <td>329</td>\n      <td>Desperate Measures (1998)</td>\n      <td>4</td>\n    </tr>\n  </tbody>\n</table>\n</div>"
     },
     "execution_count": 4,
     "metadata": {},
     "output_type": "execute_result"
    }
   ],
   "source": [
    "recommender.get_user_best_films(3, n=10)"
   ],
   "metadata": {
    "collapsed": false,
    "ExecuteTime": {
     "end_time": "2023-12-03T17:55:14.257525Z",
     "start_time": "2023-12-03T17:55:14.162357500Z"
    }
   },
   "id": "274e479328cb043f"
  },
  {
   "cell_type": "code",
   "execution_count": 5,
   "outputs": [
    {
     "data": {
      "text/plain": "   movieId                 movieTitle  viewsNum\n0       50           Star Wars (1977)       583\n1      258             Contact (1997)       509\n2      100               Fargo (1996)       508\n3      181  Return of the Jedi (1983)       507\n4      294           Liar Liar (1997)       485",
      "text/html": "<div>\n<style scoped>\n    .dataframe tbody tr th:only-of-type {\n        vertical-align: middle;\n    }\n\n    .dataframe tbody tr th {\n        vertical-align: top;\n    }\n\n    .dataframe thead th {\n        text-align: right;\n    }\n</style>\n<table border=\"1\" class=\"dataframe\">\n  <thead>\n    <tr style=\"text-align: right;\">\n      <th></th>\n      <th>movieId</th>\n      <th>movieTitle</th>\n      <th>viewsNum</th>\n    </tr>\n  </thead>\n  <tbody>\n    <tr>\n      <th>0</th>\n      <td>50</td>\n      <td>Star Wars (1977)</td>\n      <td>583</td>\n    </tr>\n    <tr>\n      <th>1</th>\n      <td>258</td>\n      <td>Contact (1997)</td>\n      <td>509</td>\n    </tr>\n    <tr>\n      <th>2</th>\n      <td>100</td>\n      <td>Fargo (1996)</td>\n      <td>508</td>\n    </tr>\n    <tr>\n      <th>3</th>\n      <td>181</td>\n      <td>Return of the Jedi (1983)</td>\n      <td>507</td>\n    </tr>\n    <tr>\n      <th>4</th>\n      <td>294</td>\n      <td>Liar Liar (1997)</td>\n      <td>485</td>\n    </tr>\n  </tbody>\n</table>\n</div>"
     },
     "execution_count": 5,
     "metadata": {},
     "output_type": "execute_result"
    }
   ],
   "source": [
    "recommender.get_most_popular_films()"
   ],
   "metadata": {
    "collapsed": false,
    "ExecuteTime": {
     "end_time": "2023-12-03T17:55:14.279370900Z",
     "start_time": "2023-12-03T17:55:14.188335300Z"
    }
   },
   "id": "261a8b102acefd5a"
  },
  {
   "cell_type": "markdown",
   "source": [
    "It also supports adding new users; first, the most popular movies will be shown as recommendations, and after several ratings, personalized recommendations will be shown."
   ],
   "metadata": {
    "collapsed": false
   },
   "id": "ac4bb7da5888365a"
  },
  {
   "cell_type": "code",
   "execution_count": 6,
   "outputs": [],
   "source": [
    "recommender.add_user(944)"
   ],
   "metadata": {
    "collapsed": false,
    "ExecuteTime": {
     "end_time": "2023-12-03T17:55:14.279370900Z",
     "start_time": "2023-12-03T17:55:14.206862900Z"
    }
   },
   "id": "d29f4207f581379"
  },
  {
   "cell_type": "code",
   "execution_count": 7,
   "outputs": [
    {
     "data": {
      "text/plain": "   movieId                   movieTitle\n0       50             Star Wars (1977)\n1      258               Contact (1997)\n2      181    Return of the Jedi (1983)\n3      294             Liar Liar (1997)\n4      286  English Patient, The (1996)",
      "text/html": "<div>\n<style scoped>\n    .dataframe tbody tr th:only-of-type {\n        vertical-align: middle;\n    }\n\n    .dataframe tbody tr th {\n        vertical-align: top;\n    }\n\n    .dataframe thead th {\n        text-align: right;\n    }\n</style>\n<table border=\"1\" class=\"dataframe\">\n  <thead>\n    <tr style=\"text-align: right;\">\n      <th></th>\n      <th>movieId</th>\n      <th>movieTitle</th>\n    </tr>\n  </thead>\n  <tbody>\n    <tr>\n      <th>0</th>\n      <td>50</td>\n      <td>Star Wars (1977)</td>\n    </tr>\n    <tr>\n      <th>1</th>\n      <td>258</td>\n      <td>Contact (1997)</td>\n    </tr>\n    <tr>\n      <th>2</th>\n      <td>181</td>\n      <td>Return of the Jedi (1983)</td>\n    </tr>\n    <tr>\n      <th>3</th>\n      <td>294</td>\n      <td>Liar Liar (1997)</td>\n    </tr>\n    <tr>\n      <th>4</th>\n      <td>286</td>\n      <td>English Patient, The (1996)</td>\n    </tr>\n  </tbody>\n</table>\n</div>"
     },
     "execution_count": 7,
     "metadata": {},
     "output_type": "execute_result"
    }
   ],
   "source": [
    "recommender.add_rating(944, 100, 5)\n",
    "recommender.get_recs(944)"
   ],
   "metadata": {
    "collapsed": false,
    "ExecuteTime": {
     "end_time": "2023-12-03T17:55:14.280968400Z",
     "start_time": "2023-12-03T17:55:14.210886900Z"
    }
   },
   "id": "8e8ae246c58f960a"
  },
  {
   "cell_type": "code",
   "execution_count": 8,
   "outputs": [
    {
     "data": {
      "text/plain": "   movieId                   movieTitle\n0      258               Contact (1997)\n1      181    Return of the Jedi (1983)\n2      294             Liar Liar (1997)\n3      286  English Patient, The (1996)\n4      288                Scream (1996)",
      "text/html": "<div>\n<style scoped>\n    .dataframe tbody tr th:only-of-type {\n        vertical-align: middle;\n    }\n\n    .dataframe tbody tr th {\n        vertical-align: top;\n    }\n\n    .dataframe thead th {\n        text-align: right;\n    }\n</style>\n<table border=\"1\" class=\"dataframe\">\n  <thead>\n    <tr style=\"text-align: right;\">\n      <th></th>\n      <th>movieId</th>\n      <th>movieTitle</th>\n    </tr>\n  </thead>\n  <tbody>\n    <tr>\n      <th>0</th>\n      <td>258</td>\n      <td>Contact (1997)</td>\n    </tr>\n    <tr>\n      <th>1</th>\n      <td>181</td>\n      <td>Return of the Jedi (1983)</td>\n    </tr>\n    <tr>\n      <th>2</th>\n      <td>294</td>\n      <td>Liar Liar (1997)</td>\n    </tr>\n    <tr>\n      <th>3</th>\n      <td>286</td>\n      <td>English Patient, The (1996)</td>\n    </tr>\n    <tr>\n      <th>4</th>\n      <td>288</td>\n      <td>Scream (1996)</td>\n    </tr>\n  </tbody>\n</table>\n</div>"
     },
     "execution_count": 8,
     "metadata": {},
     "output_type": "execute_result"
    }
   ],
   "source": [
    "recommender.add_rating(944, 50, 5)\n",
    "recommender.get_recs(944)"
   ],
   "metadata": {
    "collapsed": false,
    "ExecuteTime": {
     "end_time": "2023-12-03T17:55:18.521327200Z",
     "start_time": "2023-12-03T17:55:18.504288600Z"
    }
   },
   "id": "b66c263b6b479d03"
  },
  {
   "cell_type": "code",
   "execution_count": 9,
   "outputs": [
    {
     "data": {
      "text/plain": "   movieId                   movieTitle\n0      258               Contact (1997)\n1      181    Return of the Jedi (1983)\n2      294             Liar Liar (1997)\n3      286  English Patient, The (1996)\n4      288                Scream (1996)",
      "text/html": "<div>\n<style scoped>\n    .dataframe tbody tr th:only-of-type {\n        vertical-align: middle;\n    }\n\n    .dataframe tbody tr th {\n        vertical-align: top;\n    }\n\n    .dataframe thead th {\n        text-align: right;\n    }\n</style>\n<table border=\"1\" class=\"dataframe\">\n  <thead>\n    <tr style=\"text-align: right;\">\n      <th></th>\n      <th>movieId</th>\n      <th>movieTitle</th>\n    </tr>\n  </thead>\n  <tbody>\n    <tr>\n      <th>0</th>\n      <td>258</td>\n      <td>Contact (1997)</td>\n    </tr>\n    <tr>\n      <th>1</th>\n      <td>181</td>\n      <td>Return of the Jedi (1983)</td>\n    </tr>\n    <tr>\n      <th>2</th>\n      <td>294</td>\n      <td>Liar Liar (1997)</td>\n    </tr>\n    <tr>\n      <th>3</th>\n      <td>286</td>\n      <td>English Patient, The (1996)</td>\n    </tr>\n    <tr>\n      <th>4</th>\n      <td>288</td>\n      <td>Scream (1996)</td>\n    </tr>\n  </tbody>\n</table>\n</div>"
     },
     "execution_count": 9,
     "metadata": {},
     "output_type": "execute_result"
    }
   ],
   "source": [
    "recommender.add_rating(944, 1420, 5)\n",
    "recommender.get_recs(944)"
   ],
   "metadata": {
    "collapsed": false,
    "ExecuteTime": {
     "end_time": "2023-12-03T17:55:19.753941700Z",
     "start_time": "2023-12-03T17:55:19.728728300Z"
    }
   },
   "id": "eef3346039ce1e5f"
  },
  {
   "cell_type": "code",
   "execution_count": 10,
   "outputs": [
    {
     "data": {
      "text/plain": "   movieId                   movieTitle\n0      258               Contact (1997)\n1      181    Return of the Jedi (1983)\n2      286  English Patient, The (1996)\n3      288                Scream (1996)\n4        1             Toy Story (1995)",
      "text/html": "<div>\n<style scoped>\n    .dataframe tbody tr th:only-of-type {\n        vertical-align: middle;\n    }\n\n    .dataframe tbody tr th {\n        vertical-align: top;\n    }\n\n    .dataframe thead th {\n        text-align: right;\n    }\n</style>\n<table border=\"1\" class=\"dataframe\">\n  <thead>\n    <tr style=\"text-align: right;\">\n      <th></th>\n      <th>movieId</th>\n      <th>movieTitle</th>\n    </tr>\n  </thead>\n  <tbody>\n    <tr>\n      <th>0</th>\n      <td>258</td>\n      <td>Contact (1997)</td>\n    </tr>\n    <tr>\n      <th>1</th>\n      <td>181</td>\n      <td>Return of the Jedi (1983)</td>\n    </tr>\n    <tr>\n      <th>2</th>\n      <td>286</td>\n      <td>English Patient, The (1996)</td>\n    </tr>\n    <tr>\n      <th>3</th>\n      <td>288</td>\n      <td>Scream (1996)</td>\n    </tr>\n    <tr>\n      <th>4</th>\n      <td>1</td>\n      <td>Toy Story (1995)</td>\n    </tr>\n  </tbody>\n</table>\n</div>"
     },
     "execution_count": 10,
     "metadata": {},
     "output_type": "execute_result"
    }
   ],
   "source": [
    "recommender.add_rating(944, 294, 5)\n",
    "recommender.get_recs(944)"
   ],
   "metadata": {
    "collapsed": false,
    "ExecuteTime": {
     "end_time": "2023-12-03T17:55:20.287243500Z",
     "start_time": "2023-12-03T17:55:20.267772400Z"
    }
   },
   "id": "2b60860a3d6fb64e"
  },
  {
   "cell_type": "code",
   "execution_count": 11,
   "outputs": [
    {
     "data": {
      "text/plain": "   movieId                                  movieTitle\n0      814               Great Day in Harlem, A (1994)\n1     1122              They Made Me a Criminal (1939)\n2     1189                          Prefontaine (1997)\n3     1201  Marlene Dietrich: Shadow and Light (1996) \n4     1293                             Star Kid (1997)",
      "text/html": "<div>\n<style scoped>\n    .dataframe tbody tr th:only-of-type {\n        vertical-align: middle;\n    }\n\n    .dataframe tbody tr th {\n        vertical-align: top;\n    }\n\n    .dataframe thead th {\n        text-align: right;\n    }\n</style>\n<table border=\"1\" class=\"dataframe\">\n  <thead>\n    <tr style=\"text-align: right;\">\n      <th></th>\n      <th>movieId</th>\n      <th>movieTitle</th>\n    </tr>\n  </thead>\n  <tbody>\n    <tr>\n      <th>0</th>\n      <td>814</td>\n      <td>Great Day in Harlem, A (1994)</td>\n    </tr>\n    <tr>\n      <th>1</th>\n      <td>1122</td>\n      <td>They Made Me a Criminal (1939)</td>\n    </tr>\n    <tr>\n      <th>2</th>\n      <td>1189</td>\n      <td>Prefontaine (1997)</td>\n    </tr>\n    <tr>\n      <th>3</th>\n      <td>1201</td>\n      <td>Marlene Dietrich: Shadow and Light (1996)</td>\n    </tr>\n    <tr>\n      <th>4</th>\n      <td>1293</td>\n      <td>Star Kid (1997)</td>\n    </tr>\n  </tbody>\n</table>\n</div>"
     },
     "execution_count": 11,
     "metadata": {},
     "output_type": "execute_result"
    }
   ],
   "source": [
    "recommender.add_rating(944, 288, 5)\n",
    "recommender.get_recs(944)"
   ],
   "metadata": {
    "collapsed": false,
    "ExecuteTime": {
     "end_time": "2023-12-03T17:55:23.035549100Z",
     "start_time": "2023-12-03T17:55:22.316695700Z"
    }
   },
   "id": "fc25264fad2cd15"
  },
  {
   "cell_type": "markdown",
   "source": [
    "So, after 5 ratings, RecSys provides a personalized recommendations"
   ],
   "metadata": {
    "collapsed": false
   },
   "id": "f840e2c5dbb262f7"
  }
 ],
 "metadata": {
  "kernelspec": {
   "display_name": "Python 3",
   "language": "python",
   "name": "python3"
  },
  "language_info": {
   "codemirror_mode": {
    "name": "ipython",
    "version": 2
   },
   "file_extension": ".py",
   "mimetype": "text/x-python",
   "name": "python",
   "nbconvert_exporter": "python",
   "pygments_lexer": "ipython2",
   "version": "2.7.6"
  }
 },
 "nbformat": 4,
 "nbformat_minor": 5
}
