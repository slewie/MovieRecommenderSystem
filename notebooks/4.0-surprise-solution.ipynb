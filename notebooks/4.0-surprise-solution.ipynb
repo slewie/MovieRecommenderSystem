{
 "cells": [
  {
   "cell_type": "markdown",
   "source": [
    "# Information\n",
    "\n",
    "In this notebook I will test [surprise library](https://surprise.readthedocs.io/en/stable/index.html) and choose the best algorithm for recommendation"
   ],
   "metadata": {
    "collapsed": false
   },
   "id": "34533e52d84e6e9"
  },
  {
   "cell_type": "code",
   "execution_count": 11,
   "outputs": [],
   "source": [
    "from surprise import Dataset, Reader, SVD, SVDpp, KNNBasic, KNNWithMeans, NMF\n",
    "import pandas as pd\n",
    "from collections import defaultdict\n",
    "from surprise.model_selection import GridSearchCV, KFold\n",
    "import numpy as np\n",
    "from sklearn.metrics import ndcg_score\n",
    "from scipy import sparse"
   ],
   "metadata": {
    "collapsed": false,
    "ExecuteTime": {
     "end_time": "2023-12-02T19:18:32.528230400Z",
     "start_time": "2023-12-02T19:18:32.465638Z"
    }
   },
   "id": "e232e05015d84da8"
  },
  {
   "cell_type": "code",
   "execution_count": 12,
   "outputs": [],
   "source": [
    "ratings = pd.read_csv('../data/interim/u.data', index_col=0)[[\"user\", \"item\", \"rating\"]]"
   ],
   "metadata": {
    "collapsed": false,
    "ExecuteTime": {
     "end_time": "2023-12-02T19:18:32.545869200Z",
     "start_time": "2023-12-02T19:18:32.479439200Z"
    }
   },
   "id": "823bf7660205d089"
  },
  {
   "cell_type": "code",
   "execution_count": 13,
   "outputs": [],
   "source": [
    "reader = Reader(rating_scale=(1, 5))\n",
    "data = Dataset.load_from_df(ratings, reader)"
   ],
   "metadata": {
    "collapsed": false,
    "ExecuteTime": {
     "end_time": "2023-12-02T19:18:32.597291700Z",
     "start_time": "2023-12-02T19:18:32.528739200Z"
    }
   },
   "id": "adde195946bd14c3"
  },
  {
   "cell_type": "code",
   "execution_count": 14,
   "outputs": [],
   "source": [
    "def precision_recall_at_k(predictions, k=10,\n",
    "                          threshold=4):  # code taken from https://surprise.readthedocs.io/en/stable/FAQ.html\n",
    "    \"\"\"Return precision and recall at k metrics for each user\"\"\"\n",
    "\n",
    "    # First map the predictions to each user.\n",
    "    user_est_true = defaultdict(list)\n",
    "    for uid, _, true_r, est, _ in predictions:\n",
    "        user_est_true[uid].append((est, true_r))\n",
    "\n",
    "    precisions = dict()\n",
    "    recalls = dict()\n",
    "    for uid, user_ratings in user_est_true.items():\n",
    "        # Sort user ratings by estimated value\n",
    "        user_ratings.sort(key=lambda x: x[0], reverse=True)\n",
    "\n",
    "        # Number of relevant items\n",
    "        n_rel = sum((true_r >= threshold) for (_, true_r) in user_ratings)\n",
    "\n",
    "        # Number of recommended items in top k\n",
    "        n_rec_k = sum((est >= threshold) for (est, _) in user_ratings[:k])\n",
    "\n",
    "        # Number of relevant and recommended items in top k\n",
    "        n_rel_and_rec_k = sum(\n",
    "            ((true_r >= threshold) and (est >= threshold))\n",
    "            for (est, true_r) in user_ratings[:k]\n",
    "        )\n",
    "\n",
    "        # Precision@K: Proportion of recommended items that are relevant\n",
    "        # When n_rec_k is 0, Precision is undefined. We here set it to 0.\n",
    "\n",
    "        precisions[uid] = n_rel_and_rec_k / n_rec_k if n_rec_k != 0 else 0\n",
    "\n",
    "        # Recall@K: Proportion of relevant items that are recommended\n",
    "        # When n_rel is 0, Recall is undefined. We here set it to 0.\n",
    "\n",
    "        recalls[uid] = n_rel_and_rec_k / n_rel if n_rel != 0 else 0\n",
    "\n",
    "    return precisions, recalls\n",
    "\n",
    "\n",
    "def get_ndcg(predictions, k_highest_scores=None):\n",
    "    \"\"\"\n",
    "    Calculates the NDCG from algorithm predictions\n",
    "    :param predictions: list of predictions\n",
    "    :param k_highest_scores: only consider the highest k scores in the ranking. If None, use all. \n",
    "    :return: float in [0., 1.]: The averaged NDCG scores over all recommendations\n",
    "    \"\"\"\n",
    "\n",
    "    uids = [int(p.uid) for p in predictions]\n",
    "    iids = [int(p.iid) for p in predictions]\n",
    "    r_uis = [p.r_ui for p in predictions]\n",
    "    ests = [p.est for p in predictions]\n",
    "\n",
    "    assert (len(uids) == len(iids) == len(r_uis) == len(ests))\n",
    "\n",
    "    sparse_preds = sparse.coo_matrix((ests, (uids, iids)))\n",
    "    sparse_vals = sparse.coo_matrix((r_uis, (uids, iids)))\n",
    "\n",
    "    dense_preds = sparse_preds.toarray()\n",
    "    dense_vals = sparse_vals.toarray()\n",
    "\n",
    "    return ndcg_score(y_true=dense_vals, y_score=dense_preds, k=k_highest_scores)"
   ],
   "metadata": {
    "collapsed": false,
    "ExecuteTime": {
     "end_time": "2023-12-02T19:18:32.608183700Z",
     "start_time": "2023-12-02T19:18:32.597291700Z"
    }
   },
   "id": "1e4da3553afac57c"
  },
  {
   "cell_type": "code",
   "execution_count": 15,
   "outputs": [],
   "source": [
    "def test_algo(model, k=5, random_state=42):\n",
    "    kf = KFold(n_splits=5, random_state=random_state)\n",
    "    precisions_list = []\n",
    "    recalls_list = []\n",
    "    ndcgs_list = []\n",
    "\n",
    "    for trainset, testset in kf.split(data):\n",
    "        model.fit(trainset)\n",
    "        predictions = model.test(testset)\n",
    "        precisions, recalls = precision_recall_at_k(predictions, k=k)\n",
    "        ndcg = get_ndcg(predictions)\n",
    "\n",
    "        # Precision and recall can then be averaged over all users\n",
    "        precisions_list.append(sum(prec for prec in precisions.values()) / len(precisions))\n",
    "        recalls_list.append(sum(rec for rec in recalls.values()) / len(recalls))\n",
    "        ndcgs_list.append(ndcg)\n",
    "\n",
    "    result = {\n",
    "        'Precision@K': [np.mean(precisions_list)],\n",
    "        'Recall@K': [np.mean(recalls_list)],\n",
    "        'NDCG@K': [np.mean(ndcgs_list)],\n",
    "    }\n",
    "    return pd.DataFrame(data=result, index=[str(model.__class__).split('.')[-1][:-2]])"
   ],
   "metadata": {
    "collapsed": false,
    "ExecuteTime": {
     "end_time": "2023-12-02T19:18:32.615967600Z",
     "start_time": "2023-12-02T19:18:32.608183700Z"
    }
   },
   "id": "8068698aa8435656"
  },
  {
   "cell_type": "code",
   "execution_count": 16,
   "outputs": [],
   "source": [
    "models_list = [SVD(), SVDpp(), KNNBasic(), KNNWithMeans(), NMF()]"
   ],
   "metadata": {
    "collapsed": false,
    "ExecuteTime": {
     "end_time": "2023-12-02T19:18:32.657124900Z",
     "start_time": "2023-12-02T19:18:32.615967600Z"
    }
   },
   "id": "57ed22a8d2f23cf7"
  },
  {
   "cell_type": "code",
   "execution_count": 17,
   "outputs": [
    {
     "name": "stdout",
     "output_type": "stream",
     "text": [
      "Computing the msd similarity matrix...\n",
      "Done computing similarity matrix.\n",
      "Computing the msd similarity matrix...\n",
      "Done computing similarity matrix.\n",
      "Computing the msd similarity matrix...\n",
      "Done computing similarity matrix.\n",
      "Computing the msd similarity matrix...\n",
      "Done computing similarity matrix.\n",
      "Computing the msd similarity matrix...\n",
      "Done computing similarity matrix.\n",
      "Computing the msd similarity matrix...\n",
      "Done computing similarity matrix.\n",
      "Computing the msd similarity matrix...\n",
      "Done computing similarity matrix.\n",
      "Computing the msd similarity matrix...\n",
      "Done computing similarity matrix.\n",
      "Computing the msd similarity matrix...\n",
      "Done computing similarity matrix.\n",
      "Computing the msd similarity matrix...\n",
      "Done computing similarity matrix.\n"
     ]
    }
   ],
   "source": [
    "result = []\n",
    "\n",
    "for model in models_list:\n",
    "    result.append(test_algo(model))"
   ],
   "metadata": {
    "collapsed": false,
    "ExecuteTime": {
     "end_time": "2023-12-02T19:21:05.013360300Z",
     "start_time": "2023-12-02T19:18:32.658774300Z"
    }
   },
   "id": "71d4f4ac59ee60d1"
  },
  {
   "cell_type": "code",
   "execution_count": 18,
   "outputs": [
    {
     "data": {
      "text/plain": "              Precision@K  Recall@K    NDCG@K\nSVD              0.630388  0.238925  0.955183\nSVDpp            0.643185  0.250266  0.956909\nKNNBasic         0.689412  0.255310  0.956816\nKNNWithMeans     0.567798  0.230601  0.955540\nNMF              0.614016  0.238655  0.951269",
      "text/html": "<div>\n<style scoped>\n    .dataframe tbody tr th:only-of-type {\n        vertical-align: middle;\n    }\n\n    .dataframe tbody tr th {\n        vertical-align: top;\n    }\n\n    .dataframe thead th {\n        text-align: right;\n    }\n</style>\n<table border=\"1\" class=\"dataframe\">\n  <thead>\n    <tr style=\"text-align: right;\">\n      <th></th>\n      <th>Precision@K</th>\n      <th>Recall@K</th>\n      <th>NDCG@K</th>\n    </tr>\n  </thead>\n  <tbody>\n    <tr>\n      <th>SVD</th>\n      <td>0.630388</td>\n      <td>0.238925</td>\n      <td>0.955183</td>\n    </tr>\n    <tr>\n      <th>SVDpp</th>\n      <td>0.643185</td>\n      <td>0.250266</td>\n      <td>0.956909</td>\n    </tr>\n    <tr>\n      <th>KNNBasic</th>\n      <td>0.689412</td>\n      <td>0.255310</td>\n      <td>0.956816</td>\n    </tr>\n    <tr>\n      <th>KNNWithMeans</th>\n      <td>0.567798</td>\n      <td>0.230601</td>\n      <td>0.955540</td>\n    </tr>\n    <tr>\n      <th>NMF</th>\n      <td>0.614016</td>\n      <td>0.238655</td>\n      <td>0.951269</td>\n    </tr>\n  </tbody>\n</table>\n</div>"
     },
     "execution_count": 18,
     "metadata": {},
     "output_type": "execute_result"
    }
   ],
   "source": [
    "pd.concat(result)"
   ],
   "metadata": {
    "collapsed": false,
    "ExecuteTime": {
     "end_time": "2023-12-02T19:21:05.022267900Z",
     "start_time": "2023-12-02T19:21:05.013360300Z"
    }
   },
   "id": "c6d39f8dbb8e6349"
  },
  {
   "cell_type": "markdown",
   "source": [
    "Based on the result, `KNNBasic` shows the best performance and now I will search the best parameters for it"
   ],
   "metadata": {
    "collapsed": false
   },
   "id": "aa2b25a815d9864e"
  },
  {
   "cell_type": "code",
   "execution_count": 19,
   "outputs": [],
   "source": [
    "param_grid = {'k': [i for i in range(30, 50, 2)], 'min_k': [1, 2, 3, 4], 'verbose': [False]}\n",
    "gs = GridSearchCV(KNNBasic, param_grid, measures=[\"mae\"], cv=5)\n",
    "\n",
    "gs.fit(data)"
   ],
   "metadata": {
    "collapsed": false,
    "ExecuteTime": {
     "end_time": "2023-12-02T19:31:46.770304Z",
     "start_time": "2023-12-02T19:21:15.277636600Z"
    }
   },
   "id": "8cb06847979bc517"
  },
  {
   "cell_type": "code",
   "execution_count": 20,
   "outputs": [
    {
     "data": {
      "text/plain": "          Precision@K  Recall@K    NDCG@K\nKNNBasic     0.687496  0.258572  0.956339",
      "text/html": "<div>\n<style scoped>\n    .dataframe tbody tr th:only-of-type {\n        vertical-align: middle;\n    }\n\n    .dataframe tbody tr th {\n        vertical-align: top;\n    }\n\n    .dataframe thead th {\n        text-align: right;\n    }\n</style>\n<table border=\"1\" class=\"dataframe\">\n  <thead>\n    <tr style=\"text-align: right;\">\n      <th></th>\n      <th>Precision@K</th>\n      <th>Recall@K</th>\n      <th>NDCG@K</th>\n    </tr>\n  </thead>\n  <tbody>\n    <tr>\n      <th>KNNBasic</th>\n      <td>0.687496</td>\n      <td>0.258572</td>\n      <td>0.956339</td>\n    </tr>\n  </tbody>\n</table>\n</div>"
     },
     "execution_count": 20,
     "metadata": {},
     "output_type": "execute_result"
    }
   ],
   "source": [
    "best_model = gs.best_estimator['mae']\n",
    "test_algo(best_model)"
   ],
   "metadata": {
    "collapsed": false,
    "ExecuteTime": {
     "end_time": "2023-12-02T19:32:03.652775Z",
     "start_time": "2023-12-02T19:31:46.774842300Z"
    }
   },
   "id": "ea0fb691845f3ecb"
  },
  {
   "cell_type": "markdown",
   "source": [
    "This approach outperforms baseline solution and solution with encoder for movies, so I will use it for final solution."
   ],
   "metadata": {
    "collapsed": false
   },
   "id": "a0bb0b7abac8feaf"
  },
  {
   "cell_type": "code",
   "execution_count": null,
   "outputs": [],
   "source": [],
   "metadata": {
    "collapsed": false
   },
   "id": "dfb7121ac68bdd7"
  }
 ],
 "metadata": {
  "kernelspec": {
   "display_name": "Python 3",
   "language": "python",
   "name": "python3"
  },
  "language_info": {
   "codemirror_mode": {
    "name": "ipython",
    "version": 2
   },
   "file_extension": ".py",
   "mimetype": "text/x-python",
   "name": "python",
   "nbconvert_exporter": "python",
   "pygments_lexer": "ipython2",
   "version": "2.7.6"
  }
 },
 "nbformat": 4,
 "nbformat_minor": 5
}
