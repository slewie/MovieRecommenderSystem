{
 "cells": [
  {
   "cell_type": "code",
   "execution_count": 1,
   "metadata": {
    "ExecuteTime": {
     "end_time": "2023-12-03T16:21:42.756746500Z",
     "start_time": "2023-12-03T16:21:42.252562200Z"
    }
   },
   "outputs": [],
   "source": [
    "import pandas as pd\n",
    "import numpy as np"
   ]
  },
  {
   "cell_type": "markdown",
   "source": [
    "## Interactions"
   ],
   "metadata": {
    "collapsed": false
   }
  },
  {
   "cell_type": "code",
   "execution_count": 2,
   "metadata": {
    "ExecuteTime": {
     "end_time": "2023-12-03T16:21:42.794380700Z",
     "start_time": "2023-12-03T16:21:42.757749300Z"
    }
   },
   "outputs": [],
   "source": [
    "column_names = [\"user\", \"item\", \"rating\", \"timestamp\"]  \n",
    "interactions = pd.read_csv('../data/raw/ml-100k/ml-100k/u.data', sep='\\t', names=column_names)"
   ]
  },
  {
   "cell_type": "code",
   "execution_count": 3,
   "metadata": {
    "ExecuteTime": {
     "end_time": "2023-12-03T16:21:42.809182300Z",
     "start_time": "2023-12-03T16:21:42.792874100Z"
    }
   },
   "outputs": [
    {
     "data": {
      "text/plain": "   user  item  rating  timestamp\n0   196   242       3  881250949\n1   186   302       3  891717742\n2    22   377       1  878887116\n3   244    51       2  880606923\n4   166   346       1  886397596",
      "text/html": "<div>\n<style scoped>\n    .dataframe tbody tr th:only-of-type {\n        vertical-align: middle;\n    }\n\n    .dataframe tbody tr th {\n        vertical-align: top;\n    }\n\n    .dataframe thead th {\n        text-align: right;\n    }\n</style>\n<table border=\"1\" class=\"dataframe\">\n  <thead>\n    <tr style=\"text-align: right;\">\n      <th></th>\n      <th>user</th>\n      <th>item</th>\n      <th>rating</th>\n      <th>timestamp</th>\n    </tr>\n  </thead>\n  <tbody>\n    <tr>\n      <th>0</th>\n      <td>196</td>\n      <td>242</td>\n      <td>3</td>\n      <td>881250949</td>\n    </tr>\n    <tr>\n      <th>1</th>\n      <td>186</td>\n      <td>302</td>\n      <td>3</td>\n      <td>891717742</td>\n    </tr>\n    <tr>\n      <th>2</th>\n      <td>22</td>\n      <td>377</td>\n      <td>1</td>\n      <td>878887116</td>\n    </tr>\n    <tr>\n      <th>3</th>\n      <td>244</td>\n      <td>51</td>\n      <td>2</td>\n      <td>880606923</td>\n    </tr>\n    <tr>\n      <th>4</th>\n      <td>166</td>\n      <td>346</td>\n      <td>1</td>\n      <td>886397596</td>\n    </tr>\n  </tbody>\n</table>\n</div>"
     },
     "execution_count": 3,
     "metadata": {},
     "output_type": "execute_result"
    }
   ],
   "source": [
    "interactions.head()"
   ]
  },
  {
   "cell_type": "code",
   "execution_count": 4,
   "outputs": [
    {
     "data": {
      "text/plain": "user         0\nitem         0\nrating       0\ntimestamp    0\ndtype: int64"
     },
     "execution_count": 4,
     "metadata": {},
     "output_type": "execute_result"
    }
   ],
   "source": [
    "interactions.isna().sum()"
   ],
   "metadata": {
    "collapsed": false,
    "ExecuteTime": {
     "end_time": "2023-12-03T16:21:42.812189500Z",
     "start_time": "2023-12-03T16:21:42.803926600Z"
    }
   }
  },
  {
   "cell_type": "code",
   "execution_count": 34,
   "outputs": [
    {
     "data": {
      "text/plain": "<Axes: >"
     },
     "execution_count": 34,
     "metadata": {},
     "output_type": "execute_result"
    },
    {
     "data": {
      "text/plain": "<Figure size 640x480 with 1 Axes>",
      "image/png": "[encoded data removed]"
     },
     "metadata": {},
     "output_type": "display_data"
    }
   ],
   "source": [
    "interactions.rating.hist(bins=np.linspace(0.5, 5.5, 6))"
   ],
   "metadata": {
    "collapsed": false,
    "ExecuteTime": {
     "end_time": "2023-12-03T16:55:07.660025700Z",
     "start_time": "2023-12-03T16:55:07.520583400Z"
    }
   }
  },
  {
   "cell_type": "markdown",
   "source": [
    "## Items"
   ],
   "metadata": {
    "collapsed": false
   }
  },
  {
   "cell_type": "code",
   "execution_count": 6,
   "metadata": {
    "ExecuteTime": {
     "end_time": "2023-12-03T16:21:43.429386Z",
     "start_time": "2023-12-03T16:21:43.412525200Z"
    }
   },
   "outputs": [],
   "source": [
    "column_names = [\"movieId\", \"movieTitle\", \"releaseDate\", \"URL\"] + [f'genre{i}' for i in range(1, 20)]  \n",
    "items = pd.read_csv('../data/raw/ml-100k/ml-100k/u.item', sep='|', names=column_names)"
   ]
  },
  {
   "cell_type": "code",
   "execution_count": 7,
   "outputs": [
    {
     "data": {
      "text/plain": "      movieId              movieTitle  releaseDate  URL  genre1  genre2  \\\n266       267                 unknown          NaN    1       0       0   \n1357     1358  The Deadly Cure (1996)  16-Sep-1996  NaN       0       1   \n1358     1359   Boys in Venice (1996)  24-Sep-1996  NaN       0       0   \n\n      genre3  genre4  genre5  genre6  ...  genre10  genre11  genre12  genre13  \\\n266        0       0       0       0  ...        0        0        0        0   \n1357       0       0       0       0  ...        0        0        0        0   \n1358       0       0       0       0  ...        0        0        0        0   \n\n      genre14  genre15  genre16  genre17  genre18  genre19  \n266         0        0        0        0        0      NaN  \n1357        0        0        0        0        0      0.0  \n1358        0        0        0        0        0      0.0  \n\n[3 rows x 23 columns]",
      "text/html": "<div>\n<style scoped>\n    .dataframe tbody tr th:only-of-type {\n        vertical-align: middle;\n    }\n\n    .dataframe tbody tr th {\n        vertical-align: top;\n    }\n\n    .dataframe thead th {\n        text-align: right;\n    }\n</style>\n<table border=\"1\" class=\"dataframe\">\n  <thead>\n    <tr style=\"text-align: right;\">\n      <th></th>\n      <th>movieId</th>\n      <th>movieTitle</th>\n      <th>releaseDate</th>\n      <th>URL</th>\n      <th>genre1</th>\n      <th>genre2</th>\n      <th>genre3</th>\n      <th>genre4</th>\n      <th>genre5</th>\n      <th>genre6</th>\n      <th>...</th>\n      <th>genre10</th>\n      <th>genre11</th>\n      <th>genre12</th>\n      <th>genre13</th>\n      <th>genre14</th>\n      <th>genre15</th>\n      <th>genre16</th>\n      <th>genre17</th>\n      <th>genre18</th>\n      <th>genre19</th>\n    </tr>\n  </thead>\n  <tbody>\n    <tr>\n      <th>266</th>\n      <td>267</td>\n      <td>unknown</td>\n      <td>NaN</td>\n      <td>1</td>\n      <td>0</td>\n      <td>0</td>\n      <td>0</td>\n      <td>0</td>\n      <td>0</td>\n      <td>0</td>\n      <td>...</td>\n      <td>0</td>\n      <td>0</td>\n      <td>0</td>\n      <td>0</td>\n      <td>0</td>\n      <td>0</td>\n      <td>0</td>\n      <td>0</td>\n      <td>0</td>\n      <td>NaN</td>\n    </tr>\n    <tr>\n      <th>1357</th>\n      <td>1358</td>\n      <td>The Deadly Cure (1996)</td>\n      <td>16-Sep-1996</td>\n      <td>NaN</td>\n      <td>0</td>\n      <td>1</td>\n      <td>0</td>\n      <td>0</td>\n      <td>0</td>\n      <td>0</td>\n      <td>...</td>\n      <td>0</td>\n      <td>0</td>\n      <td>0</td>\n      <td>0</td>\n      <td>0</td>\n      <td>0</td>\n      <td>0</td>\n      <td>0</td>\n      <td>0</td>\n      <td>0.0</td>\n    </tr>\n    <tr>\n      <th>1358</th>\n      <td>1359</td>\n      <td>Boys in Venice (1996)</td>\n      <td>24-Sep-1996</td>\n      <td>NaN</td>\n      <td>0</td>\n      <td>0</td>\n      <td>0</td>\n      <td>0</td>\n      <td>0</td>\n      <td>0</td>\n      <td>...</td>\n      <td>0</td>\n      <td>0</td>\n      <td>0</td>\n      <td>0</td>\n      <td>0</td>\n      <td>0</td>\n      <td>0</td>\n      <td>0</td>\n      <td>0</td>\n      <td>0.0</td>\n    </tr>\n  </tbody>\n</table>\n<p>3 rows × 23 columns</p>\n</div>"
     },
     "execution_count": 7,
     "metadata": {},
     "output_type": "execute_result"
    }
   ],
   "source": [
    "items[items.isna().any(axis=1)]"
   ],
   "metadata": {
    "collapsed": false,
    "ExecuteTime": {
     "end_time": "2023-12-03T16:21:43.498268300Z",
     "start_time": "2023-12-03T16:21:43.428388Z"
    }
   }
  },
  {
   "cell_type": "markdown",
   "metadata": {},
   "source": [
    "In the dataset we have one raw without any information about film, lets remove it."
   ]
  },
  {
   "cell_type": "code",
   "execution_count": 8,
   "outputs": [],
   "source": [
    "items = items.query('movieId != 267')\n",
    "interactions = interactions.query('item != 267')"
   ],
   "metadata": {
    "collapsed": false,
    "ExecuteTime": {
     "end_time": "2023-12-03T16:21:43.498268300Z",
     "start_time": "2023-12-03T16:21:43.445044200Z"
    }
   }
  },
  {
   "cell_type": "markdown",
   "source": [
    "## Genres"
   ],
   "metadata": {
    "collapsed": false
   }
  },
  {
   "cell_type": "code",
   "execution_count": 9,
   "outputs": [],
   "source": [
    "column_names = [\"genreName\", \"genreId\"]\n",
    "genres = pd.read_csv('../data/raw/ml-100k/ml-100k/u.genre', sep='|', names=column_names)[['genreId', 'genreName']]"
   ],
   "metadata": {
    "collapsed": false,
    "ExecuteTime": {
     "end_time": "2023-12-03T16:21:43.498268300Z",
     "start_time": "2023-12-03T16:21:43.462449600Z"
    }
   }
  },
  {
   "cell_type": "code",
   "execution_count": 10,
   "outputs": [
    {
     "data": {
      "text/plain": "    genreId    genreName\n0         0      unknown\n1         1       Action\n2         2    Adventure\n3         3    Animation\n4         4   Children's\n5         5       Comedy\n6         6        Crime\n7         7  Documentary\n8         8        Drama\n9         9      Fantasy\n10       10    Film-Noir\n11       11       Horror\n12       12      Musical\n13       13      Mystery\n14       14      Romance\n15       15       Sci-Fi\n16       16     Thriller\n17       17          War\n18       18      Western",
      "text/html": "<div>\n<style scoped>\n    .dataframe tbody tr th:only-of-type {\n        vertical-align: middle;\n    }\n\n    .dataframe tbody tr th {\n        vertical-align: top;\n    }\n\n    .dataframe thead th {\n        text-align: right;\n    }\n</style>\n<table border=\"1\" class=\"dataframe\">\n  <thead>\n    <tr style=\"text-align: right;\">\n      <th></th>\n      <th>genreId</th>\n      <th>genreName</th>\n    </tr>\n  </thead>\n  <tbody>\n    <tr>\n      <th>0</th>\n      <td>0</td>\n      <td>unknown</td>\n    </tr>\n    <tr>\n      <th>1</th>\n      <td>1</td>\n      <td>Action</td>\n    </tr>\n    <tr>\n      <th>2</th>\n      <td>2</td>\n      <td>Adventure</td>\n    </tr>\n    <tr>\n      <th>3</th>\n      <td>3</td>\n      <td>Animation</td>\n    </tr>\n    <tr>\n      <th>4</th>\n      <td>4</td>\n      <td>Children's</td>\n    </tr>\n    <tr>\n      <th>5</th>\n      <td>5</td>\n      <td>Comedy</td>\n    </tr>\n    <tr>\n      <th>6</th>\n      <td>6</td>\n      <td>Crime</td>\n    </tr>\n    <tr>\n      <th>7</th>\n      <td>7</td>\n      <td>Documentary</td>\n    </tr>\n    <tr>\n      <th>8</th>\n      <td>8</td>\n      <td>Drama</td>\n    </tr>\n    <tr>\n      <th>9</th>\n      <td>9</td>\n      <td>Fantasy</td>\n    </tr>\n    <tr>\n      <th>10</th>\n      <td>10</td>\n      <td>Film-Noir</td>\n    </tr>\n    <tr>\n      <th>11</th>\n      <td>11</td>\n      <td>Horror</td>\n    </tr>\n    <tr>\n      <th>12</th>\n      <td>12</td>\n      <td>Musical</td>\n    </tr>\n    <tr>\n      <th>13</th>\n      <td>13</td>\n      <td>Mystery</td>\n    </tr>\n    <tr>\n      <th>14</th>\n      <td>14</td>\n      <td>Romance</td>\n    </tr>\n    <tr>\n      <th>15</th>\n      <td>15</td>\n      <td>Sci-Fi</td>\n    </tr>\n    <tr>\n      <th>16</th>\n      <td>16</td>\n      <td>Thriller</td>\n    </tr>\n    <tr>\n      <th>17</th>\n      <td>17</td>\n      <td>War</td>\n    </tr>\n    <tr>\n      <th>18</th>\n      <td>18</td>\n      <td>Western</td>\n    </tr>\n  </tbody>\n</table>\n</div>"
     },
     "execution_count": 10,
     "metadata": {},
     "output_type": "execute_result"
    }
   ],
   "source": [
    "genres"
   ],
   "metadata": {
    "collapsed": false,
    "ExecuteTime": {
     "end_time": "2023-12-03T16:21:43.499419200Z",
     "start_time": "2023-12-03T16:21:43.470525600Z"
    }
   }
  },
  {
   "cell_type": "markdown",
   "source": [
    "The first genre doesn't have a name, let's check how many films have such genre"
   ],
   "metadata": {
    "collapsed": false
   }
  },
  {
   "cell_type": "code",
   "execution_count": 11,
   "outputs": [
    {
     "data": {
      "text/plain": "      movieId           movieTitle releaseDate  \\\n1372     1373  Good Morning (1971)  4-Feb-1971   \n\n                                                    URL  genre1  genre2  \\\n1372  http://us.imdb.com/M/title-exact?Good%20Mornin...       1       0   \n\n      genre3  genre4  genre5  genre6  ...  genre10  genre11  genre12  genre13  \\\n1372       0       0       0       0  ...        0        0        0        0   \n\n      genre14  genre15  genre16  genre17  genre18  genre19  \n1372        0        0        0        0        0      0.0  \n\n[1 rows x 23 columns]",
      "text/html": "<div>\n<style scoped>\n    .dataframe tbody tr th:only-of-type {\n        vertical-align: middle;\n    }\n\n    .dataframe tbody tr th {\n        vertical-align: top;\n    }\n\n    .dataframe thead th {\n        text-align: right;\n    }\n</style>\n<table border=\"1\" class=\"dataframe\">\n  <thead>\n    <tr style=\"text-align: right;\">\n      <th></th>\n      <th>movieId</th>\n      <th>movieTitle</th>\n      <th>releaseDate</th>\n      <th>URL</th>\n      <th>genre1</th>\n      <th>genre2</th>\n      <th>genre3</th>\n      <th>genre4</th>\n      <th>genre5</th>\n      <th>genre6</th>\n      <th>...</th>\n      <th>genre10</th>\n      <th>genre11</th>\n      <th>genre12</th>\n      <th>genre13</th>\n      <th>genre14</th>\n      <th>genre15</th>\n      <th>genre16</th>\n      <th>genre17</th>\n      <th>genre18</th>\n      <th>genre19</th>\n    </tr>\n  </thead>\n  <tbody>\n    <tr>\n      <th>1372</th>\n      <td>1373</td>\n      <td>Good Morning (1971)</td>\n      <td>4-Feb-1971</td>\n      <td>http://us.imdb.com/M/title-exact?Good%20Mornin...</td>\n      <td>1</td>\n      <td>0</td>\n      <td>0</td>\n      <td>0</td>\n      <td>0</td>\n      <td>0</td>\n      <td>...</td>\n      <td>0</td>\n      <td>0</td>\n      <td>0</td>\n      <td>0</td>\n      <td>0</td>\n      <td>0</td>\n      <td>0</td>\n      <td>0</td>\n      <td>0</td>\n      <td>0.0</td>\n    </tr>\n  </tbody>\n</table>\n<p>1 rows × 23 columns</p>\n</div>"
     },
     "execution_count": 11,
     "metadata": {},
     "output_type": "execute_result"
    }
   ],
   "source": [
    "items.query('genre1 == 1')"
   ],
   "metadata": {
    "collapsed": false,
    "ExecuteTime": {
     "end_time": "2023-12-03T16:21:43.500426500Z",
     "start_time": "2023-12-03T16:21:43.479221300Z"
    }
   }
  },
  {
   "cell_type": "code",
   "execution_count": 12,
   "outputs": [
    {
     "data": {
      "text/plain": "      user  item  rating  timestamp\n8567   181  1373       1  878962052",
      "text/html": "<div>\n<style scoped>\n    .dataframe tbody tr th:only-of-type {\n        vertical-align: middle;\n    }\n\n    .dataframe tbody tr th {\n        vertical-align: top;\n    }\n\n    .dataframe thead th {\n        text-align: right;\n    }\n</style>\n<table border=\"1\" class=\"dataframe\">\n  <thead>\n    <tr style=\"text-align: right;\">\n      <th></th>\n      <th>user</th>\n      <th>item</th>\n      <th>rating</th>\n      <th>timestamp</th>\n    </tr>\n  </thead>\n  <tbody>\n    <tr>\n      <th>8567</th>\n      <td>181</td>\n      <td>1373</td>\n      <td>1</td>\n      <td>878962052</td>\n    </tr>\n  </tbody>\n</table>\n</div>"
     },
     "execution_count": 12,
     "metadata": {},
     "output_type": "execute_result"
    }
   ],
   "source": [
    "interactions.query('item == 1373')"
   ],
   "metadata": {
    "collapsed": false,
    "ExecuteTime": {
     "end_time": "2023-12-03T16:21:43.517571400Z",
     "start_time": "2023-12-03T16:21:43.495258600Z"
    }
   }
  },
  {
   "cell_type": "markdown",
   "source": [
    "We have only one film with such genre and this film has only one poor rating, so I will remove this genre and this film"
   ],
   "metadata": {
    "collapsed": false
   }
  },
  {
   "cell_type": "code",
   "execution_count": 13,
   "outputs": [],
   "source": [
    "genres = genres.query('genreId != 0')\n",
    "interactions = interactions.query('item != 1373')\n",
    "items.index = np.arange(0, len(items))\n",
    "items = items.query('movieId != 1373')\n",
    "items = items.drop(columns=['genre1'])"
   ],
   "metadata": {
    "collapsed": false,
    "ExecuteTime": {
     "end_time": "2023-12-03T16:21:43.528420400Z",
     "start_time": "2023-12-03T16:21:43.508047800Z"
    }
   }
  },
  {
   "cell_type": "markdown",
   "source": [
    "## Users"
   ],
   "metadata": {
    "collapsed": false
   }
  },
  {
   "cell_type": "code",
   "execution_count": 14,
   "metadata": {
    "ExecuteTime": {
     "end_time": "2023-12-03T16:21:43.575376800Z",
     "start_time": "2023-12-03T16:21:43.522793200Z"
    }
   },
   "outputs": [],
   "source": [
    "column_names = [\"userId\", \"age\", \"gender\", \"occupation\", \"zipcode\"]\n",
    "users = pd.read_csv('../data/raw/ml-100k/ml-100k/u.user', sep='|', names=column_names)"
   ]
  },
  {
   "cell_type": "code",
   "execution_count": 15,
   "metadata": {
    "ExecuteTime": {
     "end_time": "2023-12-03T16:21:43.607512Z",
     "start_time": "2023-12-03T16:21:43.530572900Z"
    }
   },
   "outputs": [
    {
     "data": {
      "text/plain": "   userId  age gender  occupation zipcode\n0       1   24      M  technician   85711\n1       2   53      F       other   94043\n2       3   23      M      writer   32067\n3       4   24      M  technician   43537\n4       5   33      F       other   15213",
      "text/html": "<div>\n<style scoped>\n    .dataframe tbody tr th:only-of-type {\n        vertical-align: middle;\n    }\n\n    .dataframe tbody tr th {\n        vertical-align: top;\n    }\n\n    .dataframe thead th {\n        text-align: right;\n    }\n</style>\n<table border=\"1\" class=\"dataframe\">\n  <thead>\n    <tr style=\"text-align: right;\">\n      <th></th>\n      <th>userId</th>\n      <th>age</th>\n      <th>gender</th>\n      <th>occupation</th>\n      <th>zipcode</th>\n    </tr>\n  </thead>\n  <tbody>\n    <tr>\n      <th>0</th>\n      <td>1</td>\n      <td>24</td>\n      <td>M</td>\n      <td>technician</td>\n      <td>85711</td>\n    </tr>\n    <tr>\n      <th>1</th>\n      <td>2</td>\n      <td>53</td>\n      <td>F</td>\n      <td>other</td>\n      <td>94043</td>\n    </tr>\n    <tr>\n      <th>2</th>\n      <td>3</td>\n      <td>23</td>\n      <td>M</td>\n      <td>writer</td>\n      <td>32067</td>\n    </tr>\n    <tr>\n      <th>3</th>\n      <td>4</td>\n      <td>24</td>\n      <td>M</td>\n      <td>technician</td>\n      <td>43537</td>\n    </tr>\n    <tr>\n      <th>4</th>\n      <td>5</td>\n      <td>33</td>\n      <td>F</td>\n      <td>other</td>\n      <td>15213</td>\n    </tr>\n  </tbody>\n</table>\n</div>"
     },
     "execution_count": 15,
     "metadata": {},
     "output_type": "execute_result"
    }
   ],
   "source": [
    "users.head()"
   ]
  },
  {
   "cell_type": "code",
   "execution_count": 16,
   "metadata": {
    "ExecuteTime": {
     "end_time": "2023-12-03T16:21:43.651024600Z",
     "start_time": "2023-12-03T16:21:43.541951400Z"
    }
   },
   "outputs": [
    {
     "data": {
      "text/plain": "count    943.000000\nmean      34.051962\nstd       12.192740\nmin        7.000000\n25%       25.000000\n50%       31.000000\n75%       43.000000\nmax       73.000000\nName: age, dtype: float64"
     },
     "execution_count": 16,
     "metadata": {},
     "output_type": "execute_result"
    }
   ],
   "source": [
    "users.age.describe()"
   ]
  },
  {
   "cell_type": "code",
   "execution_count": 17,
   "outputs": [
    {
     "data": {
      "text/plain": "gender\nM    670\nF    273\nName: count, dtype: int64"
     },
     "execution_count": 17,
     "metadata": {},
     "output_type": "execute_result"
    }
   ],
   "source": [
    "users.gender.value_counts()"
   ],
   "metadata": {
    "collapsed": false,
    "ExecuteTime": {
     "end_time": "2023-12-03T16:21:43.674451500Z",
     "start_time": "2023-12-03T16:21:43.550618100Z"
    }
   }
  },
  {
   "cell_type": "markdown",
   "source": [
    "No outliers in the dataset"
   ],
   "metadata": {
    "collapsed": false
   }
  },
  {
   "cell_type": "code",
   "execution_count": 18,
   "outputs": [],
   "source": [
    "users.to_csv('../data/interim/u.user')\n",
    "items.to_csv('../data/interim/u.item')\n",
    "interactions.to_csv('../data/interim/u.data')\n",
    "genres.to_csv('../data/interim/u.genre')"
   ],
   "metadata": {
    "collapsed": false,
    "ExecuteTime": {
     "end_time": "2023-12-03T16:21:43.876942200Z",
     "start_time": "2023-12-03T16:21:43.559079400Z"
    }
   }
  }
 ],
 "metadata": {
  "kernelspec": {
   "display_name": "myenv",
   "language": "python",
   "name": "python3"
  },
  "language_info": {
   "codemirror_mode": {
    "name": "ipython",
    "version": 3
   },
   "file_extension": ".py",
   "mimetype": "text/x-python",
   "name": "python",
   "nbconvert_exporter": "python",
   "pygments_lexer": "ipython3",
   "version": "3.11.5"
  }
 },
 "nbformat": 4,
 "nbformat_minor": 2
}
