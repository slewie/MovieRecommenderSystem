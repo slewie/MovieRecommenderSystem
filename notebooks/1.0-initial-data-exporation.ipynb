{
 "cells": [
  {
   "cell_type": "code",
   "execution_count": 1,
   "metadata": {
    "ExecuteTime": {
     "end_time": "2023-12-01T19:47:58.206899200Z",
     "start_time": "2023-12-01T19:47:57.697728100Z"
    }
   },
   "outputs": [],
   "source": [
    "import pandas as pd\n",
    "import numpy as np"
   ]
  },
  {
   "cell_type": "markdown",
   "source": [
    "## Interactions"
   ],
   "metadata": {
    "collapsed": false
   }
  },
  {
   "cell_type": "code",
   "execution_count": 2,
   "metadata": {
    "ExecuteTime": {
     "end_time": "2023-12-01T19:47:58.261618500Z",
     "start_time": "2023-12-01T19:47:58.208027300Z"
    }
   },
   "outputs": [],
   "source": [
    "column_names = [\"user\", \"item\", \"rating\", \"timestamp\"]  \n",
    "interactions = pd.read_csv('../data/raw/ml-100k/ml-100k/u.data', sep='\\t', names=column_names)"
   ]
  },
  {
   "cell_type": "code",
   "execution_count": 3,
   "metadata": {
    "ExecuteTime": {
     "end_time": "2023-12-01T19:47:58.274378Z",
     "start_time": "2023-12-01T19:47:58.261618500Z"
    }
   },
   "outputs": [
    {
     "data": {
      "text/plain": "   user  item  rating  timestamp\n0   196   242       3  881250949\n1   186   302       3  891717742\n2    22   377       1  878887116\n3   244    51       2  880606923\n4   166   346       1  886397596",
      "text/html": "<div>\n<style scoped>\n    .dataframe tbody tr th:only-of-type {\n        vertical-align: middle;\n    }\n\n    .dataframe tbody tr th {\n        vertical-align: top;\n    }\n\n    .dataframe thead th {\n        text-align: right;\n    }\n</style>\n<table border=\"1\" class=\"dataframe\">\n  <thead>\n    <tr style=\"text-align: right;\">\n      <th></th>\n      <th>user</th>\n      <th>item</th>\n      <th>rating</th>\n      <th>timestamp</th>\n    </tr>\n  </thead>\n  <tbody>\n    <tr>\n      <th>0</th>\n      <td>196</td>\n      <td>242</td>\n      <td>3</td>\n      <td>881250949</td>\n    </tr>\n    <tr>\n      <th>1</th>\n      <td>186</td>\n      <td>302</td>\n      <td>3</td>\n      <td>891717742</td>\n    </tr>\n    <tr>\n      <th>2</th>\n      <td>22</td>\n      <td>377</td>\n      <td>1</td>\n      <td>878887116</td>\n    </tr>\n    <tr>\n      <th>3</th>\n      <td>244</td>\n      <td>51</td>\n      <td>2</td>\n      <td>880606923</td>\n    </tr>\n    <tr>\n      <th>4</th>\n      <td>166</td>\n      <td>346</td>\n      <td>1</td>\n      <td>886397596</td>\n    </tr>\n  </tbody>\n</table>\n</div>"
     },
     "execution_count": 3,
     "metadata": {},
     "output_type": "execute_result"
    }
   ],
   "source": [
    "interactions.head()"
   ]
  },
  {
   "cell_type": "code",
   "execution_count": 4,
   "outputs": [
    {
     "data": {
      "text/plain": "user         0\nitem         0\nrating       0\ntimestamp    0\ndtype: int64"
     },
     "execution_count": 4,
     "metadata": {},
     "output_type": "execute_result"
    }
   ],
   "source": [
    "interactions.isna().sum()"
   ],
   "metadata": {
    "collapsed": false,
    "ExecuteTime": {
     "end_time": "2023-12-01T19:47:58.288572800Z",
     "start_time": "2023-12-01T19:47:58.275376400Z"
    }
   }
  },
  {
   "cell_type": "code",
   "execution_count": 5,
   "outputs": [
    {
     "data": {
      "text/plain": "<Axes: >"
     },
     "execution_count": 5,
     "metadata": {},
     "output_type": "execute_result"
    },
    {
     "data": {
      "text/plain": "<Figure size 640x480 with 1 Axes>",
      "image/png": "[encoded data removed]"
     },
     "metadata": {},
     "output_type": "display_data"
    }
   ],
   "source": [
    "interactions.rating.hist(bins=5)"
   ],
   "metadata": {
    "collapsed": false,
    "ExecuteTime": {
     "end_time": "2023-12-01T19:47:59.096459Z",
     "start_time": "2023-12-01T19:47:58.284454800Z"
    }
   }
  },
  {
   "cell_type": "markdown",
   "source": [
    "Let's take only interactions with rating $\\geq$ 3 to recommend only good films"
   ],
   "metadata": {
    "collapsed": false
   }
  },
  {
   "cell_type": "code",
   "execution_count": 6,
   "outputs": [],
   "source": [
    "interactions = interactions.query('rating >= 3')"
   ],
   "metadata": {
    "collapsed": false,
    "ExecuteTime": {
     "end_time": "2023-12-01T19:47:59.145556600Z",
     "start_time": "2023-12-01T19:47:59.057637Z"
    }
   }
  },
  {
   "cell_type": "markdown",
   "source": [
    "## Items"
   ],
   "metadata": {
    "collapsed": false
   }
  },
  {
   "cell_type": "code",
   "execution_count": 7,
   "metadata": {
    "ExecuteTime": {
     "end_time": "2023-12-01T19:47:59.146556600Z",
     "start_time": "2023-12-01T19:47:59.087755700Z"
    }
   },
   "outputs": [],
   "source": [
    "column_names = [\"movieId\", \"movieTitle\", \"releaseDate\", \"URL\"] + [f'genre{i}' for i in range(1, 20)]  \n",
    "items = pd.read_csv('../data/raw/ml-100k/ml-100k/u.item', sep='|', names=column_names)"
   ]
  },
  {
   "cell_type": "code",
   "execution_count": 8,
   "outputs": [
    {
     "data": {
      "text/plain": "      movieId              movieTitle  releaseDate  URL  genre1  genre2  \\\n266       267                 unknown          NaN    1       0       0   \n1357     1358  The Deadly Cure (1996)  16-Sep-1996  NaN       0       1   \n1358     1359   Boys in Venice (1996)  24-Sep-1996  NaN       0       0   \n\n      genre3  genre4  genre5  genre6  ...  genre10  genre11  genre12  genre13  \\\n266        0       0       0       0  ...        0        0        0        0   \n1357       0       0       0       0  ...        0        0        0        0   \n1358       0       0       0       0  ...        0        0        0        0   \n\n      genre14  genre15  genre16  genre17  genre18  genre19  \n266         0        0        0        0        0      NaN  \n1357        0        0        0        0        0      0.0  \n1358        0        0        0        0        0      0.0  \n\n[3 rows x 23 columns]",
      "text/html": "<div>\n<style scoped>\n    .dataframe tbody tr th:only-of-type {\n        vertical-align: middle;\n    }\n\n    .dataframe tbody tr th {\n        vertical-align: top;\n    }\n\n    .dataframe thead th {\n        text-align: right;\n    }\n</style>\n<table border=\"1\" class=\"dataframe\">\n  <thead>\n    <tr style=\"text-align: right;\">\n      <th></th>\n      <th>movieId</th>\n      <th>movieTitle</th>\n      <th>releaseDate</th>\n      <th>URL</th>\n      <th>genre1</th>\n      <th>genre2</th>\n      <th>genre3</th>\n      <th>genre4</th>\n      <th>genre5</th>\n      <th>genre6</th>\n      <th>...</th>\n      <th>genre10</th>\n      <th>genre11</th>\n      <th>genre12</th>\n      <th>genre13</th>\n      <th>genre14</th>\n      <th>genre15</th>\n      <th>genre16</th>\n      <th>genre17</th>\n      <th>genre18</th>\n      <th>genre19</th>\n    </tr>\n  </thead>\n  <tbody>\n    <tr>\n      <th>266</th>\n      <td>267</td>\n      <td>unknown</td>\n      <td>NaN</td>\n      <td>1</td>\n      <td>0</td>\n      <td>0</td>\n      <td>0</td>\n      <td>0</td>\n      <td>0</td>\n      <td>0</td>\n      <td>...</td>\n      <td>0</td>\n      <td>0</td>\n      <td>0</td>\n      <td>0</td>\n      <td>0</td>\n      <td>0</td>\n      <td>0</td>\n      <td>0</td>\n      <td>0</td>\n      <td>NaN</td>\n    </tr>\n    <tr>\n      <th>1357</th>\n      <td>1358</td>\n      <td>The Deadly Cure (1996)</td>\n      <td>16-Sep-1996</td>\n      <td>NaN</td>\n      <td>0</td>\n      <td>1</td>\n      <td>0</td>\n      <td>0</td>\n      <td>0</td>\n      <td>0</td>\n      <td>...</td>\n      <td>0</td>\n      <td>0</td>\n      <td>0</td>\n      <td>0</td>\n      <td>0</td>\n      <td>0</td>\n      <td>0</td>\n      <td>0</td>\n      <td>0</td>\n      <td>0.0</td>\n    </tr>\n    <tr>\n      <th>1358</th>\n      <td>1359</td>\n      <td>Boys in Venice (1996)</td>\n      <td>24-Sep-1996</td>\n      <td>NaN</td>\n      <td>0</td>\n      <td>0</td>\n      <td>0</td>\n      <td>0</td>\n      <td>0</td>\n      <td>0</td>\n      <td>...</td>\n      <td>0</td>\n      <td>0</td>\n      <td>0</td>\n      <td>0</td>\n      <td>0</td>\n      <td>0</td>\n      <td>0</td>\n      <td>0</td>\n      <td>0</td>\n      <td>0.0</td>\n    </tr>\n  </tbody>\n</table>\n<p>3 rows × 23 columns</p>\n</div>"
     },
     "execution_count": 8,
     "metadata": {},
     "output_type": "execute_result"
    }
   ],
   "source": [
    "items[items.isna().any(axis=1)]"
   ],
   "metadata": {
    "collapsed": false,
    "ExecuteTime": {
     "end_time": "2023-12-01T19:47:59.146556600Z",
     "start_time": "2023-12-01T19:47:59.108564100Z"
    }
   }
  },
  {
   "cell_type": "markdown",
   "metadata": {},
   "source": [
    "In the dataset we have one raw without any information about film, lets remove it."
   ]
  },
  {
   "cell_type": "code",
   "execution_count": 9,
   "outputs": [],
   "source": [
    "items = items.query('movieId != 267')\n",
    "items.index = np.arange(0, len(items))\n",
    "interactions = interactions.query('item != 267')\n",
    "\n",
    "items.to_csv('../data/interim/u.item')\n",
    "interactions.to_csv('../data/interim/u.data')"
   ],
   "metadata": {
    "collapsed": false,
    "ExecuteTime": {
     "end_time": "2023-12-01T19:47:59.310492200Z",
     "start_time": "2023-12-01T19:47:59.125589700Z"
    }
   }
  },
  {
   "cell_type": "markdown",
   "source": [
    "## Users"
   ],
   "metadata": {
    "collapsed": false
   }
  },
  {
   "cell_type": "code",
   "execution_count": 10,
   "metadata": {
    "ExecuteTime": {
     "end_time": "2023-12-01T19:47:59.332343100Z",
     "start_time": "2023-12-01T19:47:59.311488200Z"
    }
   },
   "outputs": [],
   "source": [
    "column_names = [\"userId\", \"age\", \"gender\", \"occupation\", \"zipcode\"]\n",
    "users = pd.read_csv('../data/raw/ml-100k/ml-100k/u.user', sep='|', names=column_names)"
   ]
  },
  {
   "cell_type": "code",
   "execution_count": 11,
   "metadata": {
    "ExecuteTime": {
     "end_time": "2023-12-01T19:47:59.349008200Z",
     "start_time": "2023-12-01T19:47:59.331334400Z"
    }
   },
   "outputs": [
    {
     "data": {
      "text/plain": "   userId  age gender  occupation zipcode\n0       1   24      M  technician   85711\n1       2   53      F       other   94043\n2       3   23      M      writer   32067\n3       4   24      M  technician   43537\n4       5   33      F       other   15213",
      "text/html": "<div>\n<style scoped>\n    .dataframe tbody tr th:only-of-type {\n        vertical-align: middle;\n    }\n\n    .dataframe tbody tr th {\n        vertical-align: top;\n    }\n\n    .dataframe thead th {\n        text-align: right;\n    }\n</style>\n<table border=\"1\" class=\"dataframe\">\n  <thead>\n    <tr style=\"text-align: right;\">\n      <th></th>\n      <th>userId</th>\n      <th>age</th>\n      <th>gender</th>\n      <th>occupation</th>\n      <th>zipcode</th>\n    </tr>\n  </thead>\n  <tbody>\n    <tr>\n      <th>0</th>\n      <td>1</td>\n      <td>24</td>\n      <td>M</td>\n      <td>technician</td>\n      <td>85711</td>\n    </tr>\n    <tr>\n      <th>1</th>\n      <td>2</td>\n      <td>53</td>\n      <td>F</td>\n      <td>other</td>\n      <td>94043</td>\n    </tr>\n    <tr>\n      <th>2</th>\n      <td>3</td>\n      <td>23</td>\n      <td>M</td>\n      <td>writer</td>\n      <td>32067</td>\n    </tr>\n    <tr>\n      <th>3</th>\n      <td>4</td>\n      <td>24</td>\n      <td>M</td>\n      <td>technician</td>\n      <td>43537</td>\n    </tr>\n    <tr>\n      <th>4</th>\n      <td>5</td>\n      <td>33</td>\n      <td>F</td>\n      <td>other</td>\n      <td>15213</td>\n    </tr>\n  </tbody>\n</table>\n</div>"
     },
     "execution_count": 11,
     "metadata": {},
     "output_type": "execute_result"
    }
   ],
   "source": [
    "users.head()"
   ]
  },
  {
   "cell_type": "code",
   "execution_count": 12,
   "metadata": {
    "ExecuteTime": {
     "end_time": "2023-12-01T19:47:59.351015900Z",
     "start_time": "2023-12-01T19:47:59.341839400Z"
    }
   },
   "outputs": [
    {
     "data": {
      "text/plain": "count    943.000000\nmean      34.051962\nstd       12.192740\nmin        7.000000\n25%       25.000000\n50%       31.000000\n75%       43.000000\nmax       73.000000\nName: age, dtype: float64"
     },
     "execution_count": 12,
     "metadata": {},
     "output_type": "execute_result"
    }
   ],
   "source": [
    "users.age.describe()"
   ]
  },
  {
   "cell_type": "code",
   "execution_count": 13,
   "outputs": [
    {
     "data": {
      "text/plain": "gender\nM    670\nF    273\nName: count, dtype: int64"
     },
     "execution_count": 13,
     "metadata": {},
     "output_type": "execute_result"
    }
   ],
   "source": [
    "users.gender.value_counts()"
   ],
   "metadata": {
    "collapsed": false,
    "ExecuteTime": {
     "end_time": "2023-12-01T19:47:59.364555900Z",
     "start_time": "2023-12-01T19:47:59.352065800Z"
    }
   }
  },
  {
   "cell_type": "markdown",
   "source": [
    "No outliers in the dataset"
   ],
   "metadata": {
    "collapsed": false
   }
  },
  {
   "cell_type": "code",
   "execution_count": 14,
   "outputs": [],
   "source": [
    "users.to_csv('../data/interim/u.user')"
   ],
   "metadata": {
    "collapsed": false,
    "ExecuteTime": {
     "end_time": "2023-12-01T19:47:59.376292800Z",
     "start_time": "2023-12-01T19:47:59.360140100Z"
    }
   }
  }
 ],
 "metadata": {
  "kernelspec": {
   "display_name": "myenv",
   "language": "python",
   "name": "python3"
  },
  "language_info": {
   "codemirror_mode": {
    "name": "ipython",
    "version": 3
   },
   "file_extension": ".py",
   "mimetype": "text/x-python",
   "name": "python",
   "nbconvert_exporter": "python",
   "pygments_lexer": "ipython3",
   "version": "3.11.5"
  }
 },
 "nbformat": 4,
 "nbformat_minor": 2
}
