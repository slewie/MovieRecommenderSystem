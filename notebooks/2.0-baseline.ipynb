{
 "cells": [
  {
   "cell_type": "code",
   "execution_count": 46,
   "outputs": [],
   "source": [
    "import pandas as pd\n",
    "from sklearn.model_selection import train_test_split\n",
    "import numpy as np\n",
    "from sklearn.metrics import ndcg_score\n",
    "from sklearn.metrics.pairwise import cosine_similarity"
   ],
   "metadata": {
    "collapsed": false,
    "ExecuteTime": {
     "end_time": "2023-12-01T10:37:23.492701500Z",
     "start_time": "2023-12-01T10:37:23.479135400Z"
    }
   },
   "id": "initial_id"
  },
  {
   "cell_type": "code",
   "execution_count": 47,
   "outputs": [],
   "source": [
    "ratings = pd.read_csv('../data/interim/u.data', index_col=0)"
   ],
   "metadata": {
    "collapsed": false,
    "ExecuteTime": {
     "end_time": "2023-12-01T10:37:23.532167100Z",
     "start_time": "2023-12-01T10:37:23.483647900Z"
    }
   },
   "id": "34efb704cf2e99c8"
  },
  {
   "cell_type": "code",
   "execution_count": 48,
   "outputs": [],
   "source": [
    "train, test = train_test_split(ratings.values, test_size=0.2, random_state=0, stratify=ratings.user)\n",
    "train_df = pd.DataFrame(train, columns=ratings.columns)\n",
    "test_df = pd.DataFrame(test, columns=ratings.columns)"
   ],
   "metadata": {
    "collapsed": false,
    "ExecuteTime": {
     "end_time": "2023-12-01T10:37:23.565726800Z",
     "start_time": "2023-12-01T10:37:23.519429400Z"
    }
   },
   "id": "9c97f524b8d0b880"
  },
  {
   "cell_type": "code",
   "execution_count": 49,
   "outputs": [
    {
     "data": {
      "text/plain": "   user  item  rating  timestamp\n0    90   610       5  891383753\n1   434   763       5  886724873\n2    57  1093       3  883697352\n3   455  1086       3  879109692\n4   892   631       4  886609726",
      "text/html": "<div>\n<style scoped>\n    .dataframe tbody tr th:only-of-type {\n        vertical-align: middle;\n    }\n\n    .dataframe tbody tr th {\n        vertical-align: top;\n    }\n\n    .dataframe thead th {\n        text-align: right;\n    }\n</style>\n<table border=\"1\" class=\"dataframe\">\n  <thead>\n    <tr style=\"text-align: right;\">\n      <th></th>\n      <th>user</th>\n      <th>item</th>\n      <th>rating</th>\n      <th>timestamp</th>\n    </tr>\n  </thead>\n  <tbody>\n    <tr>\n      <th>0</th>\n      <td>90</td>\n      <td>610</td>\n      <td>5</td>\n      <td>891383753</td>\n    </tr>\n    <tr>\n      <th>1</th>\n      <td>434</td>\n      <td>763</td>\n      <td>5</td>\n      <td>886724873</td>\n    </tr>\n    <tr>\n      <th>2</th>\n      <td>57</td>\n      <td>1093</td>\n      <td>3</td>\n      <td>883697352</td>\n    </tr>\n    <tr>\n      <th>3</th>\n      <td>455</td>\n      <td>1086</td>\n      <td>3</td>\n      <td>879109692</td>\n    </tr>\n    <tr>\n      <th>4</th>\n      <td>892</td>\n      <td>631</td>\n      <td>4</td>\n      <td>886609726</td>\n    </tr>\n  </tbody>\n</table>\n</div>"
     },
     "execution_count": 49,
     "metadata": {},
     "output_type": "execute_result"
    }
   ],
   "source": [
    "train_df.head()"
   ],
   "metadata": {
    "collapsed": false,
    "ExecuteTime": {
     "end_time": "2023-12-01T10:37:23.578584700Z",
     "start_time": "2023-12-01T10:37:23.564612500Z"
    }
   },
   "id": "c214a9f36cd2ee2a"
  },
  {
   "cell_type": "code",
   "execution_count": 50,
   "outputs": [],
   "source": [
    "train_matrix = train_df.pivot_table(index='user', columns='item', values='rating').fillna(0)\n",
    "\n",
    "similarity = cosine_similarity(train_matrix)"
   ],
   "metadata": {
    "collapsed": false,
    "ExecuteTime": {
     "end_time": "2023-12-01T10:37:23.697180600Z",
     "start_time": "2023-12-01T10:37:23.573586500Z"
    }
   },
   "id": "7ab18c4a8042af24"
  },
  {
   "cell_type": "code",
   "execution_count": 51,
   "outputs": [],
   "source": [
    "def get_similar_users(user_id):\n",
    "    similar_users =  similarity[user_id - 1]  # -1, так как индексы в pivot_table от 0 до 942, а в train_df от 1 до 943\n",
    "    similar_users = list(enumerate(similar_users))\n",
    "    sorted_users = sorted(similar_users, key=lambda x:x[1], reverse=True)[1:6]\n",
    "    return np.array([i[0] for i in sorted_users])\n",
    "\n",
    "def recommend(user_id):\n",
    "\n",
    "    similar_users = get_similar_users(user_id) + 1  # +1 - вторая строка наоборот\n",
    "\n",
    "    user_profile = train_matrix.loc[user_id]\n",
    "    watched_movies = user_profile[user_profile > 0].index\n",
    "\n",
    "    totals = train_matrix.loc[similar_users].sum(axis=0)\n",
    "    amounts = train_matrix.loc[similar_users].count(axis=0).astype(float)\n",
    "    averages = totals / amounts\n",
    "\n",
    "    averages = averages.drop(watched_movies)\n",
    "\n",
    "    averages = averages.sort_values(ascending=False)\n",
    "\n",
    "    return averages.head(10).index.values\n",
    "    "
   ],
   "metadata": {
    "collapsed": false,
    "ExecuteTime": {
     "end_time": "2023-12-01T10:37:23.697180600Z",
     "start_time": "2023-12-01T10:37:23.652318300Z"
    }
   },
   "id": "4644e1fef8012e7e"
  },
  {
   "cell_type": "code",
   "execution_count": 52,
   "outputs": [],
   "source": [
    "recommendations = {}\n",
    "\n",
    "for row in test_df.itertuples():\n",
    "    recommendations[row.user] = recommend(row.user)"
   ],
   "metadata": {
    "collapsed": false,
    "ExecuteTime": {
     "end_time": "2023-12-01T10:38:09.155278800Z",
     "start_time": "2023-12-01T10:37:23.657844700Z"
    }
   },
   "id": "55e48a57f251ed29"
  },
  {
   "cell_type": "code",
   "execution_count": 53,
   "outputs": [],
   "source": [
    "def precision_at_k(actual, predicted, k=10):\n",
    "\n",
    "    act_set = set(actual)\n",
    "    pred_set = set(predicted[:k])\n",
    "    result = len(act_set & pred_set) / min(k, len(pred_set))\n",
    "    return result\n",
    "\n",
    "def recall_at_k(actual, predicted, k=10):\n",
    "\n",
    "    act_set = set(actual)\n",
    "    pred_set = set(predicted[:k])\n",
    "    result = len(act_set & pred_set) / len(act_set)\n",
    "    return result\n",
    "\n",
    "\n",
    "def ndcg_at_k(actual, predicted, k=10):\n",
    "    dcg = ndcg_score([actual[:k]], [predicted[:k]])\n",
    "    idcg = ndcg_score([actual], [actual])\n",
    "    result = dcg / idcg\n",
    "    return result\n",
    "\n",
    "\n",
    "def evaluate(test, recommendations):\n",
    "\n",
    "    metrics = []\n",
    "\n",
    "    for row in test.itertuples():\n",
    "\n",
    "        user_id = row.user\n",
    "        actual = test.query(f'user == {user_id}').item.values\n",
    "        predicted = recommendations[user_id]\n",
    "        if actual.shape[0] >= 5: \n",
    "            p5 = precision_at_k(actual, predicted, k=5)\n",
    "            r5 = recall_at_k(actual, predicted, k=5)\n",
    "            ndcg5 = ndcg_at_k(actual, predicted, k=5)\n",
    "    \n",
    "            metrics.append([p5, r5, ndcg5])\n",
    "\n",
    "    metrics = pd.DataFrame(metrics, columns=['P@5', 'R@5', 'NDCG@5'])\n",
    "\n",
    "    return metrics.mean()\n",
    "\n",
    "result_metrics = evaluate(test_df, recommendations)"
   ],
   "metadata": {
    "collapsed": false,
    "ExecuteTime": {
     "end_time": "2023-12-01T10:38:47.762908700Z",
     "start_time": "2023-12-01T10:38:09.159295900Z"
    }
   },
   "id": "5613173c686fd2a0"
  },
  {
   "cell_type": "code",
   "execution_count": 54,
   "outputs": [
    {
     "data": {
      "text/plain": "P@5       0.407578\nR@5       0.072824\nNDCG@5    0.820033\ndtype: float64"
     },
     "execution_count": 54,
     "metadata": {},
     "output_type": "execute_result"
    }
   ],
   "source": [
    "result_metrics"
   ],
   "metadata": {
    "collapsed": false,
    "ExecuteTime": {
     "end_time": "2023-12-01T10:38:47.770132700Z",
     "start_time": "2023-12-01T10:38:47.764911600Z"
    }
   },
   "id": "6e1541d45fd93525"
  }
 ],
 "metadata": {
  "kernelspec": {
   "display_name": "Python 3",
   "language": "python",
   "name": "python3"
  },
  "language_info": {
   "codemirror_mode": {
    "name": "ipython",
    "version": 2
   },
   "file_extension": ".py",
   "mimetype": "text/x-python",
   "name": "python",
   "nbconvert_exporter": "python",
   "pygments_lexer": "ipython2",
   "version": "2.7.6"
  }
 },
 "nbformat": 4,
 "nbformat_minor": 5
}
