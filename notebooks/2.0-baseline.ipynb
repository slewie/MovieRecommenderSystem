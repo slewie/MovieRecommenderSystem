{
 "cells": [
  {
   "cell_type": "code",
   "execution_count": 1,
   "outputs": [],
   "source": [
    "import pandas as pd\n",
    "from sklearn.model_selection import train_test_split\n",
    "import numpy as np\n",
    "from sklearn.metrics import ndcg_score\n",
    "from sklearn.metrics.pairwise import cosine_similarity"
   ],
   "metadata": {
    "collapsed": false,
    "ExecuteTime": {
     "end_time": "2023-12-03T17:45:25.847650600Z",
     "start_time": "2023-12-03T17:45:24.635653500Z"
    }
   },
   "id": "initial_id"
  },
  {
   "cell_type": "code",
   "execution_count": 2,
   "outputs": [],
   "source": [
    "ratings = pd.read_csv('../data/interim/u.data', index_col=0)"
   ],
   "metadata": {
    "collapsed": false,
    "ExecuteTime": {
     "end_time": "2023-12-03T17:45:25.892068100Z",
     "start_time": "2023-12-03T17:45:25.850658100Z"
    }
   },
   "id": "34efb704cf2e99c8"
  },
  {
   "cell_type": "code",
   "execution_count": 3,
   "outputs": [],
   "source": [
    "train, test = train_test_split(ratings.values, test_size=0.2, random_state=0, stratify=ratings.user)\n",
    "train_df = pd.DataFrame(train, columns=ratings.columns)\n",
    "test_df = pd.DataFrame(test, columns=ratings.columns)"
   ],
   "metadata": {
    "collapsed": false,
    "ExecuteTime": {
     "end_time": "2023-12-03T17:45:25.943314600Z",
     "start_time": "2023-12-03T17:45:25.894551900Z"
    }
   },
   "id": "9c97f524b8d0b880"
  },
  {
   "cell_type": "code",
   "execution_count": 4,
   "outputs": [
    {
     "data": {
      "text/plain": "       user  item  rating  timestamp\n0       308   186       4  887738152\n1       773   790       3  888539825\n2       279  1500       5  875306613\n3       805   147       5  881694286\n4       543   529       4  874866208\n...     ...   ...     ...        ...\n79987   863   346       5  889288911\n79988   184    56       3  889908657\n79989     6   274       4  883602501\n79990   711   496       5  879993073\n79991   655   739       4  891585450\n\n[79992 rows x 4 columns]",
      "text/html": "<div>\n<style scoped>\n    .dataframe tbody tr th:only-of-type {\n        vertical-align: middle;\n    }\n\n    .dataframe tbody tr th {\n        vertical-align: top;\n    }\n\n    .dataframe thead th {\n        text-align: right;\n    }\n</style>\n<table border=\"1\" class=\"dataframe\">\n  <thead>\n    <tr style=\"text-align: right;\">\n      <th></th>\n      <th>user</th>\n      <th>item</th>\n      <th>rating</th>\n      <th>timestamp</th>\n    </tr>\n  </thead>\n  <tbody>\n    <tr>\n      <th>0</th>\n      <td>308</td>\n      <td>186</td>\n      <td>4</td>\n      <td>887738152</td>\n    </tr>\n    <tr>\n      <th>1</th>\n      <td>773</td>\n      <td>790</td>\n      <td>3</td>\n      <td>888539825</td>\n    </tr>\n    <tr>\n      <th>2</th>\n      <td>279</td>\n      <td>1500</td>\n      <td>5</td>\n      <td>875306613</td>\n    </tr>\n    <tr>\n      <th>3</th>\n      <td>805</td>\n      <td>147</td>\n      <td>5</td>\n      <td>881694286</td>\n    </tr>\n    <tr>\n      <th>4</th>\n      <td>543</td>\n      <td>529</td>\n      <td>4</td>\n      <td>874866208</td>\n    </tr>\n    <tr>\n      <th>...</th>\n      <td>...</td>\n      <td>...</td>\n      <td>...</td>\n      <td>...</td>\n    </tr>\n    <tr>\n      <th>79987</th>\n      <td>863</td>\n      <td>346</td>\n      <td>5</td>\n      <td>889288911</td>\n    </tr>\n    <tr>\n      <th>79988</th>\n      <td>184</td>\n      <td>56</td>\n      <td>3</td>\n      <td>889908657</td>\n    </tr>\n    <tr>\n      <th>79989</th>\n      <td>6</td>\n      <td>274</td>\n      <td>4</td>\n      <td>883602501</td>\n    </tr>\n    <tr>\n      <th>79990</th>\n      <td>711</td>\n      <td>496</td>\n      <td>5</td>\n      <td>879993073</td>\n    </tr>\n    <tr>\n      <th>79991</th>\n      <td>655</td>\n      <td>739</td>\n      <td>4</td>\n      <td>891585450</td>\n    </tr>\n  </tbody>\n</table>\n<p>79992 rows × 4 columns</p>\n</div>"
     },
     "execution_count": 4,
     "metadata": {},
     "output_type": "execute_result"
    }
   ],
   "source": [
    "train_df"
   ],
   "metadata": {
    "collapsed": false,
    "ExecuteTime": {
     "end_time": "2023-12-03T17:45:25.958798700Z",
     "start_time": "2023-12-03T17:45:25.943314600Z"
    }
   },
   "id": "c214a9f36cd2ee2a"
  },
  {
   "cell_type": "code",
   "execution_count": 5,
   "outputs": [],
   "source": [
    "train_matrix = train_df.pivot_table(index='user', columns='item', values='rating').fillna(0)\n",
    "\n",
    "similarity = cosine_similarity(train_matrix)"
   ],
   "metadata": {
    "collapsed": false,
    "ExecuteTime": {
     "end_time": "2023-12-03T17:45:26.053414300Z",
     "start_time": "2023-12-03T17:45:25.960798900Z"
    }
   },
   "id": "7ab18c4a8042af24"
  },
  {
   "cell_type": "code",
   "execution_count": 6,
   "outputs": [],
   "source": [
    "def get_similar_users(user_id):\n",
    "    similar_users =  similarity[user_id - 1]\n",
    "    similar_users = list(enumerate(similar_users))\n",
    "    sorted_users = sorted(similar_users, key=lambda x:x[1], reverse=True)[1:6]\n",
    "    return np.array([i[0] for i in sorted_users])\n",
    "\n",
    "def recommend(user_id):\n",
    "\n",
    "    similar_users = get_similar_users(user_id) + 1 \n",
    "\n",
    "    user_profile = train_matrix.loc[user_id]\n",
    "    watched_movies = user_profile[user_profile > 0].index\n",
    "\n",
    "    totals = train_matrix.loc[similar_users].sum(axis=0)\n",
    "    amounts = train_matrix.loc[similar_users].count(axis=0).astype(float)\n",
    "    averages = totals / amounts\n",
    "\n",
    "    averages = averages.drop(watched_movies)\n",
    "\n",
    "    averages = averages.sort_values(ascending=False)\n",
    "\n",
    "    return averages.head(10).index.values\n",
    "    "
   ],
   "metadata": {
    "collapsed": false,
    "ExecuteTime": {
     "end_time": "2023-12-03T17:45:26.070835100Z",
     "start_time": "2023-12-03T17:45:26.050240600Z"
    }
   },
   "id": "4644e1fef8012e7e"
  },
  {
   "cell_type": "code",
   "execution_count": 7,
   "outputs": [],
   "source": [
    "recommendations = {}\n",
    "\n",
    "for row in test_df.itertuples():\n",
    "    recommendations[row.user] = recommend(row.user)"
   ],
   "metadata": {
    "collapsed": false,
    "ExecuteTime": {
     "end_time": "2023-12-03T17:46:22.467702600Z",
     "start_time": "2023-12-03T17:45:26.058474600Z"
    }
   },
   "id": "55e48a57f251ed29"
  },
  {
   "cell_type": "code",
   "execution_count": 8,
   "outputs": [],
   "source": [
    "def precision_at_k(actual, predicted, k=10):\n",
    "\n",
    "    act_set = set(actual)\n",
    "    pred_set = set(predicted[:k])\n",
    "    result = len(act_set & pred_set) / min(k, len(pred_set))\n",
    "    return result\n",
    "\n",
    "def recall_at_k(actual, predicted, k=10):\n",
    "\n",
    "    act_set = set(actual)\n",
    "    pred_set = set(predicted[:k])\n",
    "    result = len(act_set & pred_set) / len(act_set)\n",
    "    return result\n",
    "\n",
    "\n",
    "def ndcg_at_k(actual, predicted, k=10):\n",
    "    dcg = ndcg_score([actual[:k]], [predicted[:k]])\n",
    "    idcg = ndcg_score([actual], [actual])\n",
    "    result = dcg / idcg\n",
    "    return result\n",
    "\n",
    "\n",
    "def evaluate(test, recommendations):\n",
    "\n",
    "    metrics = []\n",
    "\n",
    "    for row in test.itertuples():\n",
    "\n",
    "        user_id = row.user\n",
    "        actual = test.query(f'user == {user_id}').item.values\n",
    "        predicted = recommendations[user_id]\n",
    "        if actual.shape[0] >= 5: \n",
    "            p5 = precision_at_k(actual, predicted, k=5)\n",
    "            r5 = recall_at_k(actual, predicted, k=5)\n",
    "            ndcg5 = ndcg_at_k(actual, predicted, k=5)\n",
    "    \n",
    "            metrics.append([p5, r5, ndcg5])\n",
    "\n",
    "    metrics = pd.DataFrame(metrics, columns=['P@5', 'R@5', 'NDCG@5'])\n",
    "\n",
    "    return metrics.mean()\n",
    "\n",
    "result_metrics = evaluate(test_df, recommendations)"
   ],
   "metadata": {
    "collapsed": false,
    "ExecuteTime": {
     "end_time": "2023-12-03T17:47:35.560010500Z",
     "start_time": "2023-12-03T17:46:22.467702600Z"
    }
   },
   "id": "5613173c686fd2a0"
  },
  {
   "cell_type": "code",
   "execution_count": 9,
   "outputs": [
    {
     "data": {
      "text/plain": "P@5       0.456083\nR@5       0.072924\nNDCG@5    0.819691\ndtype: float64"
     },
     "execution_count": 9,
     "metadata": {},
     "output_type": "execute_result"
    }
   ],
   "source": [
    "result_metrics"
   ],
   "metadata": {
    "collapsed": false,
    "ExecuteTime": {
     "end_time": "2023-12-03T17:47:35.579509300Z",
     "start_time": "2023-12-03T17:47:35.561010Z"
    }
   },
   "id": "6e1541d45fd93525"
  },
  {
   "cell_type": "code",
   "execution_count": 9,
   "outputs": [],
   "source": [],
   "metadata": {
    "collapsed": false,
    "ExecuteTime": {
     "end_time": "2023-12-03T17:47:35.579509300Z",
     "start_time": "2023-12-03T17:47:35.568913900Z"
    }
   },
   "id": "dcc24e5acac3d652"
  }
 ],
 "metadata": {
  "kernelspec": {
   "display_name": "Python 3",
   "language": "python",
   "name": "python3"
  },
  "language_info": {
   "codemirror_mode": {
    "name": "ipython",
    "version": 2
   },
   "file_extension": ".py",
   "mimetype": "text/x-python",
   "name": "python",
   "nbconvert_exporter": "python",
   "pygments_lexer": "ipython2",
   "version": "2.7.6"
  }
 },
 "nbformat": 4,
 "nbformat_minor": 5
}
