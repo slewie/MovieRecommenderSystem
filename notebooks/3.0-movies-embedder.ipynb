{
 "cells": [
  {
   "cell_type": "markdown",
   "source": [
    "# Introduction\n",
    "\n",
    "In this notebook, I will create an algorithm for embedding movies using Autoencoder. For each user I will calculate mean vector of the favourite movies and search the most similar movies to recommend them."
   ],
   "metadata": {
    "collapsed": false
   },
   "id": "50548b0ed98b851a"
  },
  {
   "cell_type": "code",
   "execution_count": 1,
   "id": "initial_id",
   "metadata": {
    "collapsed": true,
    "ExecuteTime": {
     "end_time": "2023-12-03T17:46:34.049597300Z",
     "start_time": "2023-12-03T17:46:30.637695300Z"
    }
   },
   "outputs": [],
   "source": [
    "import pandas as pd\n",
    "import numpy as np\n",
    "from tqdm import tqdm\n",
    "import torch\n",
    "import torch.nn as nn\n",
    "from sklearn.feature_extraction.text import TfidfVectorizer\n",
    "import random\n",
    "from sklearn.model_selection import train_test_split\n",
    "from numpy import dot\n",
    "from numpy.linalg import norm"
   ]
  },
  {
   "cell_type": "code",
   "execution_count": 2,
   "outputs": [],
   "source": [
    "def set_seed(seed):\n",
    "    random.seed(seed)\n",
    "    np.random.seed(seed)\n",
    "    torch.manual_seed(seed)\n",
    "\n",
    "set_seed(42)"
   ],
   "metadata": {
    "collapsed": false,
    "ExecuteTime": {
     "end_time": "2023-12-03T17:46:34.064015700Z",
     "start_time": "2023-12-03T17:46:34.052396100Z"
    }
   },
   "id": "96b97d58ccebad13"
  },
  {
   "cell_type": "code",
   "execution_count": 3,
   "outputs": [],
   "source": [
    "movies = pd.read_csv('../data/interim/u.item', index_col=0)"
   ],
   "metadata": {
    "collapsed": false,
    "ExecuteTime": {
     "end_time": "2023-12-03T17:46:34.079789500Z",
     "start_time": "2023-12-03T17:46:34.058826500Z"
    }
   },
   "id": "44ec10d1c0ea5447"
  },
  {
   "cell_type": "code",
   "execution_count": 4,
   "outputs": [
    {
     "data": {
      "text/plain": "   movieId         movieTitle  releaseDate  \\\n0        1   Toy Story (1995)  01-Jan-1995   \n1        2   GoldenEye (1995)  01-Jan-1995   \n2        3  Four Rooms (1995)  01-Jan-1995   \n3        4  Get Shorty (1995)  01-Jan-1995   \n4        5     Copycat (1995)  01-Jan-1995   \n\n                                                 URL  genre2  genre3  genre4  \\\n0  http://us.imdb.com/M/title-exact?Toy%20Story%2...       0       0       1   \n1  http://us.imdb.com/M/title-exact?GoldenEye%20(...       1       1       0   \n2  http://us.imdb.com/M/title-exact?Four%20Rooms%...       0       0       0   \n3  http://us.imdb.com/M/title-exact?Get%20Shorty%...       1       0       0   \n4  http://us.imdb.com/M/title-exact?Copycat%20(1995)       0       0       0   \n\n   genre5  genre6  genre7  ...  genre10  genre11  genre12  genre13  genre14  \\\n0       1       1       0  ...        0        0        0        0        0   \n1       0       0       0  ...        0        0        0        0        0   \n2       0       0       0  ...        0        0        0        0        0   \n3       0       1       0  ...        0        0        0        0        0   \n4       0       0       1  ...        0        0        0        0        0   \n\n   genre15  genre16  genre17  genre18  genre19  \n0        0        0        0        0      0.0  \n1        0        0        1        0      0.0  \n2        0        0        1        0      0.0  \n3        0        0        0        0      0.0  \n4        0        0        1        0      0.0  \n\n[5 rows x 22 columns]",
      "text/html": "<div>\n<style scoped>\n    .dataframe tbody tr th:only-of-type {\n        vertical-align: middle;\n    }\n\n    .dataframe tbody tr th {\n        vertical-align: top;\n    }\n\n    .dataframe thead th {\n        text-align: right;\n    }\n</style>\n<table border=\"1\" class=\"dataframe\">\n  <thead>\n    <tr style=\"text-align: right;\">\n      <th></th>\n      <th>movieId</th>\n      <th>movieTitle</th>\n      <th>releaseDate</th>\n      <th>URL</th>\n      <th>genre2</th>\n      <th>genre3</th>\n      <th>genre4</th>\n      <th>genre5</th>\n      <th>genre6</th>\n      <th>genre7</th>\n      <th>...</th>\n      <th>genre10</th>\n      <th>genre11</th>\n      <th>genre12</th>\n      <th>genre13</th>\n      <th>genre14</th>\n      <th>genre15</th>\n      <th>genre16</th>\n      <th>genre17</th>\n      <th>genre18</th>\n      <th>genre19</th>\n    </tr>\n  </thead>\n  <tbody>\n    <tr>\n      <th>0</th>\n      <td>1</td>\n      <td>Toy Story (1995)</td>\n      <td>01-Jan-1995</td>\n      <td>http://us.imdb.com/M/title-exact?Toy%20Story%2...</td>\n      <td>0</td>\n      <td>0</td>\n      <td>1</td>\n      <td>1</td>\n      <td>1</td>\n      <td>0</td>\n      <td>...</td>\n      <td>0</td>\n      <td>0</td>\n      <td>0</td>\n      <td>0</td>\n      <td>0</td>\n      <td>0</td>\n      <td>0</td>\n      <td>0</td>\n      <td>0</td>\n      <td>0.0</td>\n    </tr>\n    <tr>\n      <th>1</th>\n      <td>2</td>\n      <td>GoldenEye (1995)</td>\n      <td>01-Jan-1995</td>\n      <td>http://us.imdb.com/M/title-exact?GoldenEye%20(...</td>\n      <td>1</td>\n      <td>1</td>\n      <td>0</td>\n      <td>0</td>\n      <td>0</td>\n      <td>0</td>\n      <td>...</td>\n      <td>0</td>\n      <td>0</td>\n      <td>0</td>\n      <td>0</td>\n      <td>0</td>\n      <td>0</td>\n      <td>0</td>\n      <td>1</td>\n      <td>0</td>\n      <td>0.0</td>\n    </tr>\n    <tr>\n      <th>2</th>\n      <td>3</td>\n      <td>Four Rooms (1995)</td>\n      <td>01-Jan-1995</td>\n      <td>http://us.imdb.com/M/title-exact?Four%20Rooms%...</td>\n      <td>0</td>\n      <td>0</td>\n      <td>0</td>\n      <td>0</td>\n      <td>0</td>\n      <td>0</td>\n      <td>...</td>\n      <td>0</td>\n      <td>0</td>\n      <td>0</td>\n      <td>0</td>\n      <td>0</td>\n      <td>0</td>\n      <td>0</td>\n      <td>1</td>\n      <td>0</td>\n      <td>0.0</td>\n    </tr>\n    <tr>\n      <th>3</th>\n      <td>4</td>\n      <td>Get Shorty (1995)</td>\n      <td>01-Jan-1995</td>\n      <td>http://us.imdb.com/M/title-exact?Get%20Shorty%...</td>\n      <td>1</td>\n      <td>0</td>\n      <td>0</td>\n      <td>0</td>\n      <td>1</td>\n      <td>0</td>\n      <td>...</td>\n      <td>0</td>\n      <td>0</td>\n      <td>0</td>\n      <td>0</td>\n      <td>0</td>\n      <td>0</td>\n      <td>0</td>\n      <td>0</td>\n      <td>0</td>\n      <td>0.0</td>\n    </tr>\n    <tr>\n      <th>4</th>\n      <td>5</td>\n      <td>Copycat (1995)</td>\n      <td>01-Jan-1995</td>\n      <td>http://us.imdb.com/M/title-exact?Copycat%20(1995)</td>\n      <td>0</td>\n      <td>0</td>\n      <td>0</td>\n      <td>0</td>\n      <td>0</td>\n      <td>1</td>\n      <td>...</td>\n      <td>0</td>\n      <td>0</td>\n      <td>0</td>\n      <td>0</td>\n      <td>0</td>\n      <td>0</td>\n      <td>0</td>\n      <td>1</td>\n      <td>0</td>\n      <td>0.0</td>\n    </tr>\n  </tbody>\n</table>\n<p>5 rows × 22 columns</p>\n</div>"
     },
     "execution_count": 4,
     "metadata": {},
     "output_type": "execute_result"
    }
   ],
   "source": [
    "movies.head()"
   ],
   "metadata": {
    "collapsed": false,
    "ExecuteTime": {
     "end_time": "2023-12-03T17:46:34.103653800Z",
     "start_time": "2023-12-03T17:46:34.075457800Z"
    }
   },
   "id": "3c8060f50be514b1"
  },
  {
   "cell_type": "code",
   "execution_count": 5,
   "outputs": [],
   "source": [
    "titles = movies['movieTitle'].values\n",
    "\n",
    "vect = TfidfVectorizer(ngram_range=(1, 3), analyzer='char')\n",
    "title_vectors = vect.fit_transform(titles).toarray()"
   ],
   "metadata": {
    "collapsed": false,
    "ExecuteTime": {
     "end_time": "2023-12-03T17:46:34.237982200Z",
     "start_time": "2023-12-03T17:46:34.094519700Z"
    }
   },
   "id": "2eb807ee6190dfe7"
  },
  {
   "cell_type": "code",
   "execution_count": 6,
   "outputs": [],
   "source": [
    "genres = np.array([x for x in movies[[f'genre{i}' for i in range(2, 20)]].to_numpy()])"
   ],
   "metadata": {
    "collapsed": false,
    "ExecuteTime": {
     "end_time": "2023-12-03T17:46:34.238990500Z",
     "start_time": "2023-12-03T17:46:34.179710500Z"
    }
   },
   "id": "7e0c68afe12fcb5"
  },
  {
   "cell_type": "code",
   "execution_count": 7,
   "outputs": [],
   "source": [
    "X = np.hstack((title_vectors, genres))"
   ],
   "metadata": {
    "collapsed": false,
    "ExecuteTime": {
     "end_time": "2023-12-03T17:46:34.238990500Z",
     "start_time": "2023-12-03T17:46:34.188280400Z"
    }
   },
   "id": "17c2e67bf3c5839c"
  },
  {
   "cell_type": "code",
   "execution_count": 8,
   "outputs": [],
   "source": [
    "split_idx = int(0.8 * len(movies))\n",
    "train_data = torch.from_numpy(X[:split_idx]).float()\n",
    "test_data = torch.from_numpy(X[split_idx:]).float()"
   ],
   "metadata": {
    "collapsed": false,
    "ExecuteTime": {
     "end_time": "2023-12-03T17:46:34.240001200Z",
     "start_time": "2023-12-03T17:46:34.218744600Z"
    }
   },
   "id": "ce28a40d13389e05"
  },
  {
   "cell_type": "code",
   "execution_count": 9,
   "outputs": [],
   "source": [
    "class DenseAutoencoder(nn.Module):\n",
    "    def __init__(self, input_size, emb_size=32):\n",
    "        super().__init__()\n",
    "\n",
    "        self.encoder = nn.Sequential(\n",
    "            nn.Linear(input_size, 256),\n",
    "            nn.BatchNorm1d(256),\n",
    "            nn.ReLU(),\n",
    "            nn.Linear(256, emb_size)\n",
    "        )\n",
    "\n",
    "        self.decoder = nn.Sequential(\n",
    "            nn.Linear(emb_size, 256),\n",
    "            nn.BatchNorm1d(256),\n",
    "            nn.ReLU(),\n",
    "            nn.Linear(256, input_size),\n",
    "            nn.ReLU()\n",
    "        )\n",
    "\n",
    "    def forward(self, x):\n",
    "        embeddings = self.encoder(x)\n",
    "        reconstructions = self.decoder(embeddings)\n",
    "        return reconstructions\n",
    "\n",
    "    def encode(self, x):\n",
    "        return self.encoder(x)"
   ],
   "metadata": {
    "collapsed": false,
    "ExecuteTime": {
     "end_time": "2023-12-03T17:46:34.240998400Z",
     "start_time": "2023-12-03T17:46:34.236481Z"
    }
   },
   "id": "57b6d64024471489"
  },
  {
   "cell_type": "code",
   "execution_count": 10,
   "outputs": [],
   "source": [
    "model = DenseAutoencoder(X.shape[1])\n",
    "criterion = nn.MSELoss()\n",
    "optimizer = torch.optim.Adam(model.parameters(), lr=0.001)"
   ],
   "metadata": {
    "collapsed": false,
    "ExecuteTime": {
     "end_time": "2023-12-03T17:46:34.279428900Z",
     "start_time": "2023-12-03T17:46:34.242017100Z"
    }
   },
   "id": "5c74f8c4436b7bce"
  },
  {
   "cell_type": "code",
   "execution_count": 11,
   "outputs": [
    {
     "name": "stderr",
     "output_type": "stream",
     "text": [
      "100%|██████████| 1000/1000 [03:25<00:00,  4.86it/s, Epoch 1000, Train loss: 0.0005312236025929451, Best validation loss: 0.00021392774942796677]\n"
     ]
    }
   ],
   "source": [
    "best_val_loss = float('inf')\n",
    "\n",
    "num_epochs = 1000\n",
    "bar = tqdm(range(num_epochs))\n",
    "for epoch in bar:\n",
    "    model.train()\n",
    "    output = model(train_data)\n",
    "    loss = criterion(output, train_data)\n",
    "\n",
    "    reg = 0\n",
    "    for name, param in model.encoder.named_parameters():\n",
    "        if 'weight' in name:\n",
    "            reg += torch.norm(param, 2)\n",
    "    loss += 0.001 * reg\n",
    "    \n",
    "    optimizer.zero_grad()\n",
    "    loss.backward()\n",
    "    optimizer.step()\n",
    "    \n",
    "    model.eval()\n",
    "    with torch.no_grad():\n",
    "        test_output = model(test_data)\n",
    "        val_loss = criterion(test_output, test_data).item()\n",
    "\n",
    "    if val_loss < best_val_loss:\n",
    "        best_val_loss = val_loss\n",
    "        torch.save(model.state_dict(), '../models/enc_model.pth')\n",
    "\n",
    "    bar.set_postfix_str(f'Epoch {epoch + 1}, Train loss: {loss.item()}, Best validation loss: {best_val_loss}')"
   ],
   "metadata": {
    "collapsed": false,
    "ExecuteTime": {
     "end_time": "2023-12-03T17:50:00.043724900Z",
     "start_time": "2023-12-03T17:46:34.265176Z"
    }
   },
   "id": "5cd96c7ec7c09249"
  },
  {
   "cell_type": "code",
   "execution_count": 12,
   "outputs": [
    {
     "data": {
      "text/plain": "<All keys matched successfully>"
     },
     "execution_count": 12,
     "metadata": {},
     "output_type": "execute_result"
    }
   ],
   "source": [
    "best_model = DenseAutoencoder(X.shape[1])\n",
    "best_model.load_state_dict(torch.load('../models/enc_model.pth'))"
   ],
   "metadata": {
    "collapsed": false,
    "ExecuteTime": {
     "end_time": "2023-12-03T17:50:00.082869Z",
     "start_time": "2023-12-03T17:50:00.044725Z"
    }
   },
   "id": "567985b35fe422ef"
  },
  {
   "cell_type": "code",
   "execution_count": 13,
   "outputs": [],
   "source": [
    "movie_embeddings = {}\n",
    "\n",
    "with torch.no_grad():\n",
    "    best_model.eval()\n",
    "    for i, movie in movies.iterrows():\n",
    "        try:\n",
    "            title_vector = title_vectors[i].reshape(1, -1)\n",
    "            genre = genres[i].reshape(1, -1)\n",
    "            movie_embeddings[movie.movieTitle] = best_model.encode(\n",
    "                torch.from_numpy(np.hstack((title_vector, genre))).float()).detach().numpy().reshape(-1)\n",
    "        except IndexError:\n",
    "            continue"
   ],
   "metadata": {
    "collapsed": false,
    "ExecuteTime": {
     "end_time": "2023-12-03T17:50:00.611460500Z",
     "start_time": "2023-12-03T17:50:00.082869Z"
    }
   },
   "id": "8d5492748507f47a"
  },
  {
   "cell_type": "code",
   "execution_count": 14,
   "outputs": [],
   "source": [
    "movie_embeddings = pd.DataFrame(data=movie_embeddings)\n",
    "movie_embeddings.to_csv('../data/interim/movie_embeddings.csv')"
   ],
   "metadata": {
    "collapsed": false,
    "ExecuteTime": {
     "end_time": "2023-12-03T17:50:00.675193600Z",
     "start_time": "2023-12-03T17:50:00.613466300Z"
    }
   },
   "id": "fd8287286ceb3ca7"
  },
  {
   "cell_type": "markdown",
   "source": [
    "# Test embedding\n"
   ],
   "metadata": {
    "collapsed": false
   },
   "id": "cda48543a5433b95"
  },
  {
   "cell_type": "code",
   "execution_count": 15,
   "outputs": [],
   "source": [
    "ratings = pd.read_csv('../data/interim/u.data', index_col=0)"
   ],
   "metadata": {
    "collapsed": false,
    "ExecuteTime": {
     "end_time": "2023-12-03T17:50:00.716560800Z",
     "start_time": "2023-12-03T17:50:00.676192200Z"
    }
   },
   "id": "f21abe118359b952"
  },
  {
   "cell_type": "code",
   "execution_count": 16,
   "outputs": [],
   "source": [
    "train, test = train_test_split(ratings, test_size=0.2, stratify=ratings['user'])"
   ],
   "metadata": {
    "collapsed": false,
    "ExecuteTime": {
     "end_time": "2023-12-03T17:50:00.764153800Z",
     "start_time": "2023-12-03T17:50:00.719596Z"
    }
   },
   "id": "7d0e25d390a25ba9"
  },
  {
   "cell_type": "code",
   "execution_count": 17,
   "outputs": [],
   "source": [
    "movie_embeddings = pd.read_csv('../data/interim/movie_embeddings.csv', index_col=0)"
   ],
   "metadata": {
    "collapsed": false,
    "ExecuteTime": {
     "end_time": "2023-12-03T17:50:00.825126Z",
     "start_time": "2023-12-03T17:50:00.765486900Z"
    }
   },
   "id": "114b87f17386f6df"
  },
  {
   "cell_type": "code",
   "execution_count": 18,
   "outputs": [],
   "source": [
    "def get_movie_embedding(movie_id):\n",
    "    movie_title = movies.query(f'movieId == {movie_id}').movieTitle\n",
    "    return movie_embeddings[movie_title].values"
   ],
   "metadata": {
    "collapsed": false,
    "ExecuteTime": {
     "end_time": "2023-12-03T17:50:00.837575300Z",
     "start_time": "2023-12-03T17:50:00.829081Z"
    }
   },
   "id": "8220bc4c7657a5f9"
  },
  {
   "cell_type": "code",
   "execution_count": 19,
   "outputs": [],
   "source": [
    "user_embeddings = {}"
   ],
   "metadata": {
    "collapsed": false,
    "ExecuteTime": {
     "end_time": "2023-12-03T17:50:00.837575300Z",
     "start_time": "2023-12-03T17:50:00.833201900Z"
    }
   },
   "id": "8f836ac134137bc2"
  },
  {
   "cell_type": "code",
   "execution_count": 20,
   "outputs": [],
   "source": [
    "for i, row in train.iterrows():\n",
    "    try:\n",
    "        user_embeddings[row.user] = user_embeddings.get(row.user, np.zeros((32, 1))) + [get_movie_embedding(row[1])]\n",
    "    except KeyError:\n",
    "        continue"
   ],
   "metadata": {
    "collapsed": false,
    "ExecuteTime": {
     "end_time": "2023-12-03T18:00:03.119057900Z",
     "start_time": "2023-12-03T17:57:19.002024300Z"
    }
   },
   "id": "30848f2b6d7f8d1b"
  },
  {
   "cell_type": "code",
   "execution_count": 21,
   "outputs": [],
   "source": [
    "for k, v in user_embeddings.items():\n",
    "    user_embeddings[k] = np.mean(v, axis=0).reshape(-1)"
   ],
   "metadata": {
    "collapsed": false,
    "ExecuteTime": {
     "end_time": "2023-12-03T18:00:42.090697300Z",
     "start_time": "2023-12-03T18:00:42.070272300Z"
    }
   },
   "id": "b73ba1d8fb1b1cc7"
  },
  {
   "cell_type": "code",
   "execution_count": 22,
   "outputs": [],
   "source": [
    "def cosine_sim(v1, v2):\n",
    "    return dot(v1, v2) / (norm(v1) * norm(v2))"
   ],
   "metadata": {
    "collapsed": false,
    "ExecuteTime": {
     "end_time": "2023-12-03T18:00:42.500462700Z",
     "start_time": "2023-12-03T18:00:42.496076500Z"
    }
   },
   "id": "adae0192d477e47f"
  },
  {
   "cell_type": "code",
   "execution_count": 23,
   "outputs": [],
   "source": [
    "def get_recs(user_id):\n",
    "\n",
    "    user_vector = user_embeddings.get(user_id, [])\n",
    "    user_movies = train.query(f'user == {user_id}').merge(movies, left_on='item', right_on='movieId').movieTitle.values\n",
    "    movie_list = []\n",
    "    rating_list = []\n",
    "\n",
    "    for k, v in movie_embeddings.items():\n",
    "        movie_list.append(k)\n",
    "        rating_list.append(cosine_sim(user_vector, v))\n",
    "\n",
    "    index_sorted = np.argsort(rating_list)[::-1]\n",
    "    movie_list = np.array(movie_list)[index_sorted]\n",
    "    return [title for title in movie_list if title not in user_movies]"
   ],
   "metadata": {
    "collapsed": false,
    "ExecuteTime": {
     "end_time": "2023-12-03T18:00:43.119870500Z",
     "start_time": "2023-12-03T18:00:43.102767100Z"
    }
   },
   "id": "7057b2dba6bdf1a8"
  },
  {
   "cell_type": "code",
   "execution_count": 24,
   "outputs": [],
   "source": [
    "def precision_at_k(actual, predicted, k=10):\n",
    "\n",
    "    act_set = set(actual)\n",
    "    pred_set = set(predicted[:k])\n",
    "    result = len(act_set & pred_set) / min(k, len(pred_set))\n",
    "    return result\n",
    "\n",
    "def recall_at_k(actual, predicted, k=10):\n",
    "\n",
    "    act_set = set(actual)\n",
    "    pred_set = set(predicted[:k])\n",
    "    result = len(act_set & pred_set) / len(act_set)\n",
    "    return result\n",
    "\n",
    "\n",
    "def evaluate(test):\n",
    "\n",
    "    metrics = []\n",
    "    grouped = test.sort_values(by='rating').groupby(by='user')['item'].apply(np.array)\n",
    "    for user_id, user_movies in grouped.items():\n",
    "\n",
    "        actual = movies.query(f'movieId in {list(user_movies)}').movieTitle.values\n",
    "        predicted = get_recs(user_id)\n",
    "        k = 5\n",
    "        if actual.shape[0] >= k:\n",
    "            p5 = precision_at_k(actual, predicted, k=k)\n",
    "            r5 = recall_at_k(actual, predicted, k=k)\n",
    "\n",
    "            metrics.append([p5, r5])\n",
    "\n",
    "    metrics = pd.DataFrame(metrics, columns=['P@5', 'R@5'])\n",
    "\n",
    "    return metrics.mean()"
   ],
   "metadata": {
    "collapsed": false,
    "ExecuteTime": {
     "end_time": "2023-12-03T18:00:44.070741Z",
     "start_time": "2023-12-03T18:00:44.059843200Z"
    }
   },
   "id": "fac64834ea7504"
  },
  {
   "cell_type": "code",
   "execution_count": 25,
   "outputs": [
    {
     "data": {
      "text/plain": "P@5    0.013441\nR@5    0.002508\ndtype: float64"
     },
     "execution_count": 25,
     "metadata": {},
     "output_type": "execute_result"
    }
   ],
   "source": [
    "evaluate(test)"
   ],
   "metadata": {
    "collapsed": false,
    "ExecuteTime": {
     "end_time": "2023-12-03T18:01:40.263316700Z",
     "start_time": "2023-12-03T18:00:44.633172200Z"
    }
   },
   "id": "1672c3ee6ad681c3"
  },
  {
   "cell_type": "markdown",
   "source": [
    "The result is worse than baseline solution, so this approach doesn't work."
   ],
   "metadata": {
    "collapsed": false
   },
   "id": "94252f1a5ad249"
  }
 ],
 "metadata": {
  "kernelspec": {
   "display_name": "Python 3",
   "language": "python",
   "name": "python3"
  },
  "language_info": {
   "codemirror_mode": {
    "name": "ipython",
    "version": 2
   },
   "file_extension": ".py",
   "mimetype": "text/x-python",
   "name": "python",
   "nbconvert_exporter": "python",
   "pygments_lexer": "ipython2",
   "version": "2.7.6"
  }
 },
 "nbformat": 4,
 "nbformat_minor": 5
}
