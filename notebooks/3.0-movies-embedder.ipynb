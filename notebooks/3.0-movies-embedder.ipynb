{
 "cells": [
  {
   "cell_type": "code",
   "execution_count": 1,
   "id": "initial_id",
   "metadata": {
    "collapsed": true,
    "ExecuteTime": {
     "end_time": "2023-12-02T08:09:44.456017800Z",
     "start_time": "2023-12-02T08:09:41.528837500Z"
    }
   },
   "outputs": [],
   "source": [
    "import pandas as pd\n",
    "import numpy as np\n",
    "from tqdm import tqdm\n",
    "import torch\n",
    "import torch.nn as nn\n",
    "from sklearn.feature_extraction.text import TfidfVectorizer\n",
    "import random"
   ]
  },
  {
   "cell_type": "code",
   "execution_count": 2,
   "outputs": [],
   "source": [
    "def set_seed(seed):\n",
    "    random.seed(seed)\n",
    "    np.random.seed(seed)\n",
    "    torch.manual_seed(seed)\n",
    "\n",
    "set_seed(42)"
   ],
   "metadata": {
    "collapsed": false,
    "ExecuteTime": {
     "end_time": "2023-12-02T08:09:44.463064100Z",
     "start_time": "2023-12-02T08:09:44.457028Z"
    }
   },
   "id": "96b97d58ccebad13"
  },
  {
   "cell_type": "code",
   "execution_count": 3,
   "outputs": [],
   "source": [
    "movies = pd.read_csv('../data/interim/u.item', index_col=0)"
   ],
   "metadata": {
    "collapsed": false,
    "ExecuteTime": {
     "end_time": "2023-12-02T08:09:44.478811700Z",
     "start_time": "2023-12-02T08:09:44.464559200Z"
    }
   },
   "id": "44ec10d1c0ea5447"
  },
  {
   "cell_type": "code",
   "execution_count": 4,
   "outputs": [
    {
     "data": {
      "text/plain": "   movieId         movieTitle  releaseDate  \\\n0        1   Toy Story (1995)  01-Jan-1995   \n1        2   GoldenEye (1995)  01-Jan-1995   \n2        3  Four Rooms (1995)  01-Jan-1995   \n3        4  Get Shorty (1995)  01-Jan-1995   \n4        5     Copycat (1995)  01-Jan-1995   \n\n                                                 URL  genre1  genre2  genre3  \\\n0  http://us.imdb.com/M/title-exact?Toy%20Story%2...       0       0       0   \n1  http://us.imdb.com/M/title-exact?GoldenEye%20(...       0       1       1   \n2  http://us.imdb.com/M/title-exact?Four%20Rooms%...       0       0       0   \n3  http://us.imdb.com/M/title-exact?Get%20Shorty%...       0       1       0   \n4  http://us.imdb.com/M/title-exact?Copycat%20(1995)       0       0       0   \n\n   genre4  genre5  genre6  ...  genre10  genre11  genre12  genre13  genre14  \\\n0       1       1       1  ...        0        0        0        0        0   \n1       0       0       0  ...        0        0        0        0        0   \n2       0       0       0  ...        0        0        0        0        0   \n3       0       0       1  ...        0        0        0        0        0   \n4       0       0       0  ...        0        0        0        0        0   \n\n   genre15  genre16  genre17  genre18  genre19  \n0        0        0        0        0      0.0  \n1        0        0        1        0      0.0  \n2        0        0        1        0      0.0  \n3        0        0        0        0      0.0  \n4        0        0        1        0      0.0  \n\n[5 rows x 23 columns]",
      "text/html": "<div>\n<style scoped>\n    .dataframe tbody tr th:only-of-type {\n        vertical-align: middle;\n    }\n\n    .dataframe tbody tr th {\n        vertical-align: top;\n    }\n\n    .dataframe thead th {\n        text-align: right;\n    }\n</style>\n<table border=\"1\" class=\"dataframe\">\n  <thead>\n    <tr style=\"text-align: right;\">\n      <th></th>\n      <th>movieId</th>\n      <th>movieTitle</th>\n      <th>releaseDate</th>\n      <th>URL</th>\n      <th>genre1</th>\n      <th>genre2</th>\n      <th>genre3</th>\n      <th>genre4</th>\n      <th>genre5</th>\n      <th>genre6</th>\n      <th>...</th>\n      <th>genre10</th>\n      <th>genre11</th>\n      <th>genre12</th>\n      <th>genre13</th>\n      <th>genre14</th>\n      <th>genre15</th>\n      <th>genre16</th>\n      <th>genre17</th>\n      <th>genre18</th>\n      <th>genre19</th>\n    </tr>\n  </thead>\n  <tbody>\n    <tr>\n      <th>0</th>\n      <td>1</td>\n      <td>Toy Story (1995)</td>\n      <td>01-Jan-1995</td>\n      <td>http://us.imdb.com/M/title-exact?Toy%20Story%2...</td>\n      <td>0</td>\n      <td>0</td>\n      <td>0</td>\n      <td>1</td>\n      <td>1</td>\n      <td>1</td>\n      <td>...</td>\n      <td>0</td>\n      <td>0</td>\n      <td>0</td>\n      <td>0</td>\n      <td>0</td>\n      <td>0</td>\n      <td>0</td>\n      <td>0</td>\n      <td>0</td>\n      <td>0.0</td>\n    </tr>\n    <tr>\n      <th>1</th>\n      <td>2</td>\n      <td>GoldenEye (1995)</td>\n      <td>01-Jan-1995</td>\n      <td>http://us.imdb.com/M/title-exact?GoldenEye%20(...</td>\n      <td>0</td>\n      <td>1</td>\n      <td>1</td>\n      <td>0</td>\n      <td>0</td>\n      <td>0</td>\n      <td>...</td>\n      <td>0</td>\n      <td>0</td>\n      <td>0</td>\n      <td>0</td>\n      <td>0</td>\n      <td>0</td>\n      <td>0</td>\n      <td>1</td>\n      <td>0</td>\n      <td>0.0</td>\n    </tr>\n    <tr>\n      <th>2</th>\n      <td>3</td>\n      <td>Four Rooms (1995)</td>\n      <td>01-Jan-1995</td>\n      <td>http://us.imdb.com/M/title-exact?Four%20Rooms%...</td>\n      <td>0</td>\n      <td>0</td>\n      <td>0</td>\n      <td>0</td>\n      <td>0</td>\n      <td>0</td>\n      <td>...</td>\n      <td>0</td>\n      <td>0</td>\n      <td>0</td>\n      <td>0</td>\n      <td>0</td>\n      <td>0</td>\n      <td>0</td>\n      <td>1</td>\n      <td>0</td>\n      <td>0.0</td>\n    </tr>\n    <tr>\n      <th>3</th>\n      <td>4</td>\n      <td>Get Shorty (1995)</td>\n      <td>01-Jan-1995</td>\n      <td>http://us.imdb.com/M/title-exact?Get%20Shorty%...</td>\n      <td>0</td>\n      <td>1</td>\n      <td>0</td>\n      <td>0</td>\n      <td>0</td>\n      <td>1</td>\n      <td>...</td>\n      <td>0</td>\n      <td>0</td>\n      <td>0</td>\n      <td>0</td>\n      <td>0</td>\n      <td>0</td>\n      <td>0</td>\n      <td>0</td>\n      <td>0</td>\n      <td>0.0</td>\n    </tr>\n    <tr>\n      <th>4</th>\n      <td>5</td>\n      <td>Copycat (1995)</td>\n      <td>01-Jan-1995</td>\n      <td>http://us.imdb.com/M/title-exact?Copycat%20(1995)</td>\n      <td>0</td>\n      <td>0</td>\n      <td>0</td>\n      <td>0</td>\n      <td>0</td>\n      <td>0</td>\n      <td>...</td>\n      <td>0</td>\n      <td>0</td>\n      <td>0</td>\n      <td>0</td>\n      <td>0</td>\n      <td>0</td>\n      <td>0</td>\n      <td>1</td>\n      <td>0</td>\n      <td>0.0</td>\n    </tr>\n  </tbody>\n</table>\n<p>5 rows × 23 columns</p>\n</div>"
     },
     "execution_count": 4,
     "metadata": {},
     "output_type": "execute_result"
    }
   ],
   "source": [
    "movies.head()"
   ],
   "metadata": {
    "collapsed": false,
    "ExecuteTime": {
     "end_time": "2023-12-02T08:09:44.506167400Z",
     "start_time": "2023-12-02T08:09:44.478811700Z"
    }
   },
   "id": "3c8060f50be514b1"
  },
  {
   "cell_type": "code",
   "execution_count": 5,
   "outputs": [],
   "source": [
    "titles = movies['movieTitle'].values\n",
    "\n",
    "vect = TfidfVectorizer(ngram_range=(1, 3), analyzer='char')\n",
    "title_vectors = vect.fit_transform(titles).toarray()"
   ],
   "metadata": {
    "collapsed": false,
    "ExecuteTime": {
     "end_time": "2023-12-02T08:09:44.621429100Z",
     "start_time": "2023-12-02T08:09:44.498494600Z"
    }
   },
   "id": "2eb807ee6190dfe7"
  },
  {
   "cell_type": "code",
   "execution_count": 6,
   "outputs": [],
   "source": [
    "genres = np.array([x for x in movies[[f'genre{i}' for i in range(1, 20)]].to_numpy()])"
   ],
   "metadata": {
    "collapsed": false,
    "ExecuteTime": {
     "end_time": "2023-12-02T08:09:44.621429100Z",
     "start_time": "2023-12-02T08:09:44.573461800Z"
    }
   },
   "id": "7e0c68afe12fcb5"
  },
  {
   "cell_type": "code",
   "execution_count": 7,
   "outputs": [],
   "source": [
    "X = np.hstack((title_vectors, genres))"
   ],
   "metadata": {
    "collapsed": false,
    "ExecuteTime": {
     "end_time": "2023-12-02T08:09:44.622427800Z",
     "start_time": "2023-12-02T08:09:44.582358100Z"
    }
   },
   "id": "17c2e67bf3c5839c"
  },
  {
   "cell_type": "code",
   "execution_count": 8,
   "outputs": [],
   "source": [
    "split_idx = int(0.8 * len(movies))\n",
    "train_data = torch.from_numpy(X[:split_idx]).float()\n",
    "test_data = torch.from_numpy(X[split_idx:]).float()"
   ],
   "metadata": {
    "collapsed": false,
    "ExecuteTime": {
     "end_time": "2023-12-02T08:09:44.622427800Z",
     "start_time": "2023-12-02T08:09:44.604810500Z"
    }
   },
   "id": "ce28a40d13389e05"
  },
  {
   "cell_type": "code",
   "execution_count": 9,
   "outputs": [],
   "source": [
    "class DenseAutoencoder(nn.Module):\n",
    "    def __init__(self, input_size, emb_size=32):\n",
    "        super().__init__()\n",
    "\n",
    "        self.encoder = nn.Sequential(\n",
    "            nn.Linear(input_size, 256),\n",
    "            nn.BatchNorm1d(256),\n",
    "            nn.ReLU(),\n",
    "            nn.Linear(256, emb_size)\n",
    "        )\n",
    "\n",
    "        self.decoder = nn.Sequential(\n",
    "            nn.Linear(emb_size, 256),\n",
    "            nn.BatchNorm1d(256),\n",
    "            nn.ReLU(),\n",
    "            nn.Linear(256, input_size),\n",
    "            nn.Sigmoid()\n",
    "        )\n",
    "\n",
    "    def forward(self, x):\n",
    "        embeddings = self.encoder(x)\n",
    "        reconstructions = self.decoder(embeddings)\n",
    "        return reconstructions\n",
    "\n",
    "    def encode(self, x):\n",
    "        return self.encoder(x)"
   ],
   "metadata": {
    "collapsed": false,
    "ExecuteTime": {
     "end_time": "2023-12-02T08:09:44.622427800Z",
     "start_time": "2023-12-02T08:09:44.618020800Z"
    }
   },
   "id": "57b6d64024471489"
  },
  {
   "cell_type": "code",
   "execution_count": 10,
   "outputs": [],
   "source": [
    "model = DenseAutoencoder(X.shape[1])\n",
    "criterion = nn.MSELoss()\n",
    "optimizer = torch.optim.Adam(model.parameters(), lr=0.001)"
   ],
   "metadata": {
    "collapsed": false,
    "ExecuteTime": {
     "end_time": "2023-12-02T08:09:44.650553300Z",
     "start_time": "2023-12-02T08:09:44.623427600Z"
    }
   },
   "id": "5c74f8c4436b7bce"
  },
  {
   "cell_type": "code",
   "execution_count": 11,
   "outputs": [
    {
     "name": "stderr",
     "output_type": "stream",
     "text": [
      "100%|██████████| 700/700 [02:40<00:00,  4.36it/s, Epoch 700, Train loss: 0.005276366136968136, Best validation loss: 0.00024008699983824044] \n"
     ]
    }
   ],
   "source": [
    "best_val_loss = float('inf')\n",
    "\n",
    "num_epochs = 700\n",
    "bar = tqdm(range(num_epochs))\n",
    "for epoch in bar:\n",
    "    model.train()\n",
    "    output = model(train_data)\n",
    "    loss = criterion(output, train_data)\n",
    "\n",
    "    reg = 0\n",
    "    for name, param in model.encoder.named_parameters():\n",
    "        if 'weight' in name:\n",
    "            reg += torch.norm(param, 2)\n",
    "    loss += 0.001 * reg\n",
    "    \n",
    "    optimizer.zero_grad()\n",
    "    loss.backward()\n",
    "    optimizer.step()\n",
    "    \n",
    "    model.eval()\n",
    "    with torch.no_grad():\n",
    "        test_output = model(test_data)\n",
    "        val_loss = criterion(test_output, test_data).item()\n",
    "\n",
    "    if val_loss < best_val_loss:\n",
    "        best_val_loss = val_loss\n",
    "        torch.save(model.state_dict(), '../models/enc_model.pth')\n",
    "\n",
    "    bar.set_postfix_str(f'Epoch {epoch + 1}, Train loss: {loss.item()}, Best validation loss: {best_val_loss}')"
   ],
   "metadata": {
    "collapsed": false,
    "ExecuteTime": {
     "end_time": "2023-12-02T08:12:25.272080200Z",
     "start_time": "2023-12-02T08:09:44.642041300Z"
    }
   },
   "id": "5cd96c7ec7c09249"
  },
  {
   "cell_type": "code",
   "execution_count": 12,
   "outputs": [
    {
     "name": "stdout",
     "output_type": "stream",
     "text": [
      "Test loss: 0.0004304506292100996\n"
     ]
    }
   ],
   "source": [
    "best_model = DenseAutoencoder(X.shape[1])\n",
    "best_model.load_state_dict(torch.load('../models/enc_model.pth'))"
   ],
   "metadata": {
    "collapsed": false,
    "ExecuteTime": {
     "end_time": "2023-12-02T08:12:25.340460500Z",
     "start_time": "2023-12-02T08:12:25.267245900Z"
    }
   },
   "id": "567985b35fe422ef"
  },
  {
   "cell_type": "code",
   "execution_count": 13,
   "outputs": [],
   "source": [
    "movie_embeddings = {}\n",
    "\n",
    "with torch.no_grad():\n",
    "    best_model.eval()\n",
    "    for i, movie in movies.iterrows():\n",
    "        title_vector = title_vectors[i].reshape(1, -1)\n",
    "        genre = genres[i].reshape(1, -1)\n",
    "        movie_embeddings[movie.movieTitle] = best_model.encode(\n",
    "            torch.from_numpy(np.hstack((title_vector, genre))).float()).detach().numpy().reshape(-1)"
   ],
   "metadata": {
    "collapsed": false,
    "ExecuteTime": {
     "end_time": "2023-12-02T08:12:26.056760300Z",
     "start_time": "2023-12-02T08:12:25.335452Z"
    }
   },
   "id": "8d5492748507f47a"
  },
  {
   "cell_type": "code",
   "execution_count": 14,
   "outputs": [],
   "source": [
    "movie_embeddings = pd.DataFrame(data=movie_embeddings)\n",
    "movie_embeddings.to_csv('../data/interim/movie_embeddings.csv')"
   ],
   "metadata": {
    "collapsed": false,
    "ExecuteTime": {
     "end_time": "2023-12-02T08:12:26.124288Z",
     "start_time": "2023-12-02T08:12:26.051210400Z"
    }
   },
   "id": "fd8287286ceb3ca7"
  },
  {
   "cell_type": "markdown",
   "source": [
    "# Test embedding\n",
    "\n",
    "I'm creating an embedding for one movie and trying to find the most similar movie using embeddings and cosine similarity."
   ],
   "metadata": {
    "collapsed": false
   },
   "id": "cda48543a5433b95"
  },
  {
   "cell_type": "code",
   "execution_count": 21,
   "outputs": [],
   "source": [
    "from numpy import dot\n",
    "from numpy.linalg import norm\n",
    "\n",
    "\n",
    "def cosine_sim(v1, v2):\n",
    "    return dot(v1, v2) / (norm(v1) * norm(v2))"
   ],
   "metadata": {
    "collapsed": false,
    "ExecuteTime": {
     "end_time": "2023-12-02T08:16:41.012194800Z",
     "start_time": "2023-12-02T08:16:41.001589Z"
    }
   },
   "id": "d8d1bfd13e6070e0"
  },
  {
   "cell_type": "code",
   "execution_count": 22,
   "outputs": [],
   "source": [
    "target = movies.iloc[900].movieTitle\n",
    "target_emb = movie_embeddings[target]"
   ],
   "metadata": {
    "collapsed": false,
    "ExecuteTime": {
     "end_time": "2023-12-02T08:16:41.312352900Z",
     "start_time": "2023-12-02T08:16:41.301782400Z"
    }
   },
   "id": "fef4d92f263d3e06"
  },
  {
   "cell_type": "code",
   "execution_count": 23,
   "outputs": [
    {
     "data": {
      "text/plain": "'Big Lebowski, The (1998)'"
     },
     "execution_count": 23,
     "metadata": {},
     "output_type": "execute_result"
    }
   ],
   "source": [
    "target"
   ],
   "metadata": {
    "collapsed": false,
    "ExecuteTime": {
     "end_time": "2023-12-02T08:16:41.730347700Z",
     "start_time": "2023-12-02T08:16:41.702831700Z"
    }
   },
   "id": "36c6e28d0b067062"
  },
  {
   "cell_type": "code",
   "execution_count": 26,
   "outputs": [],
   "source": [
    "movie_list = []\n",
    "rating_list = []\n",
    "\n",
    "for k, v in movie_embeddings.items():\n",
    "    movie_list.append(k)\n",
    "    rating_list.append(cosine_sim(target_emb, v))"
   ],
   "metadata": {
    "collapsed": false,
    "ExecuteTime": {
     "end_time": "2023-12-02T08:17:36.779374700Z",
     "start_time": "2023-12-02T08:17:36.719924400Z"
    }
   },
   "id": "c9d188d1a0be9591"
  },
  {
   "cell_type": "code",
   "execution_count": 27,
   "outputs": [],
   "source": [
    "index_sorted = np.argsort(rating_list)\n",
    "rating_list = np.array(rating_list)[index_sorted]\n",
    "movie_list = np.array(movie_list)[index_sorted]"
   ],
   "metadata": {
    "collapsed": false,
    "ExecuteTime": {
     "end_time": "2023-12-02T08:17:39.474434500Z",
     "start_time": "2023-12-02T08:17:39.464928900Z"
    }
   },
   "id": "686b87efb7149b35"
  },
  {
   "cell_type": "code",
   "execution_count": 31,
   "outputs": [
    {
     "data": {
      "text/plain": "(array([0.9993614 , 0.9993798 , 0.99940467, 0.9997516 , 1.0000001 ],\n       dtype=float32),\n array(['North by Northwest (1959)', 'Head Above Water (1996)',\n        'Another Stakeout (1993)', 'Arsenic and Old Lace (1944)',\n        'Big Lebowski, The (1998)'], dtype='<U81'))"
     },
     "execution_count": 31,
     "metadata": {},
     "output_type": "execute_result"
    }
   ],
   "source": [
    "rating_list[-5:], movie_list[-5:]"
   ],
   "metadata": {
    "collapsed": false,
    "ExecuteTime": {
     "end_time": "2023-12-02T08:18:17.779446400Z",
     "start_time": "2023-12-02T08:18:17.766854900Z"
    }
   },
   "id": "3033682878b77481"
  },
  {
   "cell_type": "code",
   "execution_count": 32,
   "outputs": [
    {
     "data": {
      "text/plain": "     movieId                   movieTitle  releaseDate  \\\n569      571      Another Stakeout (1993)  01-Jan-1993   \n657      659  Arsenic and Old Lace (1944)  01-Jan-1944   \n900      902     Big Lebowski, The (1998)  26-Dec-1997   \n\n                                                   URL  genre1  genre2  \\\n569  http://us.imdb.com/M/title-exact?Another%20Sta...       0       0   \n657  http://us.imdb.com/M/title-exact?Arsenic%20and...       0       0   \n900  http://us.imdb.com/M/title-exact?imdb-title-11...       0       0   \n\n     genre3  genre4  genre5  genre6  ...  genre10  genre11  genre12  genre13  \\\n569       0       0       0       1  ...        0        0        0        0   \n657       0       0       0       1  ...        0        0        0        0   \n900       0       0       0       1  ...        0        0        0        0   \n\n     genre14  genre15  genre16  genre17  genre18  genre19  \n569        0        0        0        1        0      0.0  \n657        1        0        0        1        0      0.0  \n900        1        0        0        1        0      0.0  \n\n[3 rows x 23 columns]",
      "text/html": "<div>\n<style scoped>\n    .dataframe tbody tr th:only-of-type {\n        vertical-align: middle;\n    }\n\n    .dataframe tbody tr th {\n        vertical-align: top;\n    }\n\n    .dataframe thead th {\n        text-align: right;\n    }\n</style>\n<table border=\"1\" class=\"dataframe\">\n  <thead>\n    <tr style=\"text-align: right;\">\n      <th></th>\n      <th>movieId</th>\n      <th>movieTitle</th>\n      <th>releaseDate</th>\n      <th>URL</th>\n      <th>genre1</th>\n      <th>genre2</th>\n      <th>genre3</th>\n      <th>genre4</th>\n      <th>genre5</th>\n      <th>genre6</th>\n      <th>...</th>\n      <th>genre10</th>\n      <th>genre11</th>\n      <th>genre12</th>\n      <th>genre13</th>\n      <th>genre14</th>\n      <th>genre15</th>\n      <th>genre16</th>\n      <th>genre17</th>\n      <th>genre18</th>\n      <th>genre19</th>\n    </tr>\n  </thead>\n  <tbody>\n    <tr>\n      <th>569</th>\n      <td>571</td>\n      <td>Another Stakeout (1993)</td>\n      <td>01-Jan-1993</td>\n      <td>http://us.imdb.com/M/title-exact?Another%20Sta...</td>\n      <td>0</td>\n      <td>0</td>\n      <td>0</td>\n      <td>0</td>\n      <td>0</td>\n      <td>1</td>\n      <td>...</td>\n      <td>0</td>\n      <td>0</td>\n      <td>0</td>\n      <td>0</td>\n      <td>0</td>\n      <td>0</td>\n      <td>0</td>\n      <td>1</td>\n      <td>0</td>\n      <td>0.0</td>\n    </tr>\n    <tr>\n      <th>657</th>\n      <td>659</td>\n      <td>Arsenic and Old Lace (1944)</td>\n      <td>01-Jan-1944</td>\n      <td>http://us.imdb.com/M/title-exact?Arsenic%20and...</td>\n      <td>0</td>\n      <td>0</td>\n      <td>0</td>\n      <td>0</td>\n      <td>0</td>\n      <td>1</td>\n      <td>...</td>\n      <td>0</td>\n      <td>0</td>\n      <td>0</td>\n      <td>0</td>\n      <td>1</td>\n      <td>0</td>\n      <td>0</td>\n      <td>1</td>\n      <td>0</td>\n      <td>0.0</td>\n    </tr>\n    <tr>\n      <th>900</th>\n      <td>902</td>\n      <td>Big Lebowski, The (1998)</td>\n      <td>26-Dec-1997</td>\n      <td>http://us.imdb.com/M/title-exact?imdb-title-11...</td>\n      <td>0</td>\n      <td>0</td>\n      <td>0</td>\n      <td>0</td>\n      <td>0</td>\n      <td>1</td>\n      <td>...</td>\n      <td>0</td>\n      <td>0</td>\n      <td>0</td>\n      <td>0</td>\n      <td>1</td>\n      <td>0</td>\n      <td>0</td>\n      <td>1</td>\n      <td>0</td>\n      <td>0.0</td>\n    </tr>\n  </tbody>\n</table>\n<p>3 rows × 23 columns</p>\n</div>"
     },
     "execution_count": 32,
     "metadata": {},
     "output_type": "execute_result"
    }
   ],
   "source": [
    "movies.query('movieTitle in (\"Big Lebowski, The (1998)\", \"Arsenic and Old Lace (1944)\", \"Another Stakeout (1993)\")')"
   ],
   "metadata": {
    "collapsed": false,
    "ExecuteTime": {
     "end_time": "2023-12-02T08:18:36.586818900Z",
     "start_time": "2023-12-02T08:18:36.570170Z"
    }
   },
   "id": "3f523ca347f0ab6c"
  }
 ],
 "metadata": {
  "kernelspec": {
   "display_name": "Python 3",
   "language": "python",
   "name": "python3"
  },
  "language_info": {
   "codemirror_mode": {
    "name": "ipython",
    "version": 2
   },
   "file_extension": ".py",
   "mimetype": "text/x-python",
   "name": "python",
   "nbconvert_exporter": "python",
   "pygments_lexer": "ipython2",
   "version": "2.7.6"
  }
 },
 "nbformat": 4,
 "nbformat_minor": 5
}
