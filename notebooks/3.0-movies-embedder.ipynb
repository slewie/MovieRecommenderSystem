{
 "cells": [
  {
   "cell_type": "code",
   "execution_count": 66,
   "id": "initial_id",
   "metadata": {
    "collapsed": true,
    "ExecuteTime": {
     "end_time": "2023-12-01T19:48:10.263555400Z",
     "start_time": "2023-12-01T19:48:10.238452100Z"
    }
   },
   "outputs": [],
   "source": [
    "import pandas as pd\n",
    "import numpy as np\n",
    "from tqdm import tqdm\n",
    "import torch\n",
    "import torch.nn as nn\n",
    "from sklearn.feature_extraction.text import CountVectorizer"
   ]
  },
  {
   "cell_type": "code",
   "execution_count": 67,
   "outputs": [],
   "source": [
    "movies = pd.read_csv('../data/interim/u.item', index_col=0)"
   ],
   "metadata": {
    "collapsed": false,
    "ExecuteTime": {
     "end_time": "2023-12-01T19:48:10.300431400Z",
     "start_time": "2023-12-01T19:48:10.243192600Z"
    }
   },
   "id": "44ec10d1c0ea5447"
  },
  {
   "cell_type": "code",
   "execution_count": 85,
   "outputs": [
    {
     "data": {
      "text/plain": "   movieId         movieTitle  releaseDate  \\\n0        1   Toy Story (1995)  01-Jan-1995   \n1        2   GoldenEye (1995)  01-Jan-1995   \n2        3  Four Rooms (1995)  01-Jan-1995   \n3        4  Get Shorty (1995)  01-Jan-1995   \n4        5     Copycat (1995)  01-Jan-1995   \n\n                                                 URL  genre1  genre2  genre3  \\\n0  http://us.imdb.com/M/title-exact?Toy%20Story%2...       0       0       0   \n1  http://us.imdb.com/M/title-exact?GoldenEye%20(...       0       1       1   \n2  http://us.imdb.com/M/title-exact?Four%20Rooms%...       0       0       0   \n3  http://us.imdb.com/M/title-exact?Get%20Shorty%...       0       1       0   \n4  http://us.imdb.com/M/title-exact?Copycat%20(1995)       0       0       0   \n\n   genre4  genre5  genre6  ...  genre10  genre11  genre12  genre13  genre14  \\\n0       1       1       1  ...        0        0        0        0        0   \n1       0       0       0  ...        0        0        0        0        0   \n2       0       0       0  ...        0        0        0        0        0   \n3       0       0       1  ...        0        0        0        0        0   \n4       0       0       0  ...        0        0        0        0        0   \n\n   genre15  genre16  genre17  genre18  genre19  \n0        0        0        0        0      0.0  \n1        0        0        1        0      0.0  \n2        0        0        1        0      0.0  \n3        0        0        0        0      0.0  \n4        0        0        1        0      0.0  \n\n[5 rows x 23 columns]",
      "text/html": "<div>\n<style scoped>\n    .dataframe tbody tr th:only-of-type {\n        vertical-align: middle;\n    }\n\n    .dataframe tbody tr th {\n        vertical-align: top;\n    }\n\n    .dataframe thead th {\n        text-align: right;\n    }\n</style>\n<table border=\"1\" class=\"dataframe\">\n  <thead>\n    <tr style=\"text-align: right;\">\n      <th></th>\n      <th>movieId</th>\n      <th>movieTitle</th>\n      <th>releaseDate</th>\n      <th>URL</th>\n      <th>genre1</th>\n      <th>genre2</th>\n      <th>genre3</th>\n      <th>genre4</th>\n      <th>genre5</th>\n      <th>genre6</th>\n      <th>...</th>\n      <th>genre10</th>\n      <th>genre11</th>\n      <th>genre12</th>\n      <th>genre13</th>\n      <th>genre14</th>\n      <th>genre15</th>\n      <th>genre16</th>\n      <th>genre17</th>\n      <th>genre18</th>\n      <th>genre19</th>\n    </tr>\n  </thead>\n  <tbody>\n    <tr>\n      <th>0</th>\n      <td>1</td>\n      <td>Toy Story (1995)</td>\n      <td>01-Jan-1995</td>\n      <td>http://us.imdb.com/M/title-exact?Toy%20Story%2...</td>\n      <td>0</td>\n      <td>0</td>\n      <td>0</td>\n      <td>1</td>\n      <td>1</td>\n      <td>1</td>\n      <td>...</td>\n      <td>0</td>\n      <td>0</td>\n      <td>0</td>\n      <td>0</td>\n      <td>0</td>\n      <td>0</td>\n      <td>0</td>\n      <td>0</td>\n      <td>0</td>\n      <td>0.0</td>\n    </tr>\n    <tr>\n      <th>1</th>\n      <td>2</td>\n      <td>GoldenEye (1995)</td>\n      <td>01-Jan-1995</td>\n      <td>http://us.imdb.com/M/title-exact?GoldenEye%20(...</td>\n      <td>0</td>\n      <td>1</td>\n      <td>1</td>\n      <td>0</td>\n      <td>0</td>\n      <td>0</td>\n      <td>...</td>\n      <td>0</td>\n      <td>0</td>\n      <td>0</td>\n      <td>0</td>\n      <td>0</td>\n      <td>0</td>\n      <td>0</td>\n      <td>1</td>\n      <td>0</td>\n      <td>0.0</td>\n    </tr>\n    <tr>\n      <th>2</th>\n      <td>3</td>\n      <td>Four Rooms (1995)</td>\n      <td>01-Jan-1995</td>\n      <td>http://us.imdb.com/M/title-exact?Four%20Rooms%...</td>\n      <td>0</td>\n      <td>0</td>\n      <td>0</td>\n      <td>0</td>\n      <td>0</td>\n      <td>0</td>\n      <td>...</td>\n      <td>0</td>\n      <td>0</td>\n      <td>0</td>\n      <td>0</td>\n      <td>0</td>\n      <td>0</td>\n      <td>0</td>\n      <td>1</td>\n      <td>0</td>\n      <td>0.0</td>\n    </tr>\n    <tr>\n      <th>3</th>\n      <td>4</td>\n      <td>Get Shorty (1995)</td>\n      <td>01-Jan-1995</td>\n      <td>http://us.imdb.com/M/title-exact?Get%20Shorty%...</td>\n      <td>0</td>\n      <td>1</td>\n      <td>0</td>\n      <td>0</td>\n      <td>0</td>\n      <td>1</td>\n      <td>...</td>\n      <td>0</td>\n      <td>0</td>\n      <td>0</td>\n      <td>0</td>\n      <td>0</td>\n      <td>0</td>\n      <td>0</td>\n      <td>0</td>\n      <td>0</td>\n      <td>0.0</td>\n    </tr>\n    <tr>\n      <th>4</th>\n      <td>5</td>\n      <td>Copycat (1995)</td>\n      <td>01-Jan-1995</td>\n      <td>http://us.imdb.com/M/title-exact?Copycat%20(1995)</td>\n      <td>0</td>\n      <td>0</td>\n      <td>0</td>\n      <td>0</td>\n      <td>0</td>\n      <td>0</td>\n      <td>...</td>\n      <td>0</td>\n      <td>0</td>\n      <td>0</td>\n      <td>0</td>\n      <td>0</td>\n      <td>0</td>\n      <td>0</td>\n      <td>1</td>\n      <td>0</td>\n      <td>0.0</td>\n    </tr>\n  </tbody>\n</table>\n<p>5 rows × 23 columns</p>\n</div>"
     },
     "execution_count": 85,
     "metadata": {},
     "output_type": "execute_result"
    }
   ],
   "source": [
    "movies.head()"
   ],
   "metadata": {
    "collapsed": false,
    "ExecuteTime": {
     "end_time": "2023-12-01T19:51:10.936058800Z",
     "start_time": "2023-12-01T19:51:10.900299100Z"
    }
   },
   "id": "3c8060f50be514b1"
  },
  {
   "cell_type": "code",
   "execution_count": 69,
   "outputs": [],
   "source": [
    "titles = movies['movieTitle'].values\n",
    "\n",
    "vect = CountVectorizer(ngram_range=(1, 3), analyzer='char')\n",
    "title_vectors = vect.fit_transform(titles).toarray()"
   ],
   "metadata": {
    "collapsed": false,
    "ExecuteTime": {
     "end_time": "2023-12-01T19:48:10.410646600Z",
     "start_time": "2023-12-01T19:48:10.282169Z"
    }
   },
   "id": "2eb807ee6190dfe7"
  },
  {
   "cell_type": "code",
   "execution_count": 70,
   "outputs": [],
   "source": [
    "genres = np.array([x for x in movies[[f'genre{i}' for i in range(1, 20)]].to_numpy()])"
   ],
   "metadata": {
    "collapsed": false,
    "ExecuteTime": {
     "end_time": "2023-12-01T19:48:10.446385Z",
     "start_time": "2023-12-01T19:48:10.364453400Z"
    }
   },
   "id": "7e0c68afe12fcb5"
  },
  {
   "cell_type": "code",
   "execution_count": 71,
   "outputs": [],
   "source": [
    "X = np.hstack((title_vectors, genres))"
   ],
   "metadata": {
    "collapsed": false,
    "ExecuteTime": {
     "end_time": "2023-12-01T19:48:10.447393800Z",
     "start_time": "2023-12-01T19:48:10.369876100Z"
    }
   },
   "id": "17c2e67bf3c5839c"
  },
  {
   "cell_type": "code",
   "execution_count": 72,
   "outputs": [],
   "source": [
    "split_idx = int(0.8 * len(movies))\n",
    "train_data = torch.from_numpy(X[:split_idx]).type('torch.FloatTensor')\n",
    "test_data = torch.from_numpy(X[split_idx:]).type('torch.FloatTensor')"
   ],
   "metadata": {
    "collapsed": false,
    "ExecuteTime": {
     "end_time": "2023-12-01T19:48:10.447393800Z",
     "start_time": "2023-12-01T19:48:10.401882900Z"
    }
   },
   "id": "ce28a40d13389e05"
  },
  {
   "cell_type": "code",
   "execution_count": 73,
   "outputs": [],
   "source": [
    "class Autoencoder(nn.Module):\n",
    "    def __init__(self, input_size, hidden_size):\n",
    "        super(Autoencoder, self).__init__()\n",
    "        self.encoder = nn.Sequential(\n",
    "            nn.Linear(input_size, hidden_size),\n",
    "            nn.ReLU(),\n",
    "            nn.Linear(hidden_size, int(hidden_size / 2)),\n",
    "        )\n",
    "        self.decoder = nn.Sequential(\n",
    "            nn.Linear(int(hidden_size / 2), hidden_size),\n",
    "            nn.ReLU(),\n",
    "            nn.Linear(hidden_size, input_size),\n",
    "            nn.Sigmoid()\n",
    "        )\n",
    "\n",
    "    def forward(self, x):\n",
    "        encoded = self.encode(x)\n",
    "        decoded = self.decoder(encoded)\n",
    "        return decoded\n",
    "    \n",
    "    def encode(self, x):\n",
    "        return self.encoder(x)"
   ],
   "metadata": {
    "collapsed": false,
    "ExecuteTime": {
     "end_time": "2023-12-01T19:48:10.447393800Z",
     "start_time": "2023-12-01T19:48:10.414399700Z"
    }
   },
   "id": "57b6d64024471489"
  },
  {
   "cell_type": "code",
   "execution_count": 74,
   "outputs": [
    {
     "name": "stderr",
     "output_type": "stream",
     "text": [
      "100%|██████████| 100/100 [00:11<00:00,  8.87it/s, Loss: 0.013170290738344193]\n"
     ]
    }
   ],
   "source": [
    "model = Autoencoder(X.shape[1], 64)\n",
    "criterion = nn.MSELoss()\n",
    "optimizer = torch.optim.Adam(model.parameters(), lr=0.001)\n",
    "\n",
    "num_epochs = 100\n",
    "bar = tqdm(range(num_epochs))\n",
    "for epoch in bar:\n",
    "    output = model(train_data)\n",
    "    loss = criterion(train_data, output)\n",
    "    loss.backward()\n",
    "    optimizer.step()\n",
    "    bar.set_postfix_str(f'Loss: {loss.item()}')"
   ],
   "metadata": {
    "collapsed": false,
    "ExecuteTime": {
     "end_time": "2023-12-01T19:48:21.708749100Z",
     "start_time": "2023-12-01T19:48:10.421083800Z"
    }
   },
   "id": "5cd96c7ec7c09249"
  },
  {
   "cell_type": "code",
   "execution_count": 75,
   "outputs": [
    {
     "name": "stdout",
     "output_type": "stream",
     "text": [
      "Test loss: 0.013187039643526077\n"
     ]
    }
   ],
   "source": [
    "test_output = model(test_data)\n",
    "test_loss = criterion(test_output, test_data)\n",
    "\n",
    "print('Test loss:', test_loss.item())"
   ],
   "metadata": {
    "collapsed": false,
    "ExecuteTime": {
     "end_time": "2023-12-01T19:48:21.747875200Z",
     "start_time": "2023-12-01T19:48:21.704419600Z"
    }
   },
   "id": "567985b35fe422ef"
  },
  {
   "cell_type": "code",
   "execution_count": 78,
   "outputs": [],
   "source": [
    "movie_embeddings = {}\n",
    "\n",
    "for i, movie in movies.iterrows():\n",
    "    title_vector = title_vectors[i]\n",
    "    genre = genres[i]\n",
    "    movie_embeddings[movie.movieTitle] = model.encode(torch.from_numpy(np.hstack((title_vector, genre))).float()).detach().numpy()"
   ],
   "metadata": {
    "collapsed": false,
    "ExecuteTime": {
     "end_time": "2023-12-01T19:48:51.958497600Z",
     "start_time": "2023-12-01T19:48:51.448194800Z"
    }
   },
   "id": "8d5492748507f47a"
  },
  {
   "cell_type": "code",
   "execution_count": 84,
   "outputs": [],
   "source": [
    "movie_embeddings = pd.DataFrame(data=movie_embeddings)\n",
    "movie_embeddings.to_csv('../data/interim/movie_embeddings.csv')"
   ],
   "metadata": {
    "collapsed": false,
    "ExecuteTime": {
     "end_time": "2023-12-01T19:50:37.228365600Z",
     "start_time": "2023-12-01T19:50:37.176275200Z"
    }
   },
   "id": "fd8287286ceb3ca7"
  }
 ],
 "metadata": {
  "kernelspec": {
   "display_name": "Python 3",
   "language": "python",
   "name": "python3"
  },
  "language_info": {
   "codemirror_mode": {
    "name": "ipython",
    "version": 2
   },
   "file_extension": ".py",
   "mimetype": "text/x-python",
   "name": "python",
   "nbconvert_exporter": "python",
   "pygments_lexer": "ipython2",
   "version": "2.7.6"
  }
 },
 "nbformat": 4,
 "nbformat_minor": 5
}
